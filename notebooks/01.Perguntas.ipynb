{
 "cells": [
  {
   "cell_type": "markdown",
   "metadata": {
    "application/vnd.databricks.v1+cell": {
     "cellMetadata": {},
     "inputWidgets": {},
     "nuid": "95b47713-00d3-4961-a2ce-c22edea0709a",
     "showTitle": false,
     "tableResultSettingsMap": {},
     "title": ""
    }
   },
   "source": [
    "**# Quais são os três produtos mais vendidos em um dado período?**"
   ]
  },
  {
   "cell_type": "code",
   "execution_count": 0,
   "metadata": {
    "application/vnd.databricks.v1+cell": {
     "cellMetadata": {
      "byteLimit": 2048000,
      "implicitDf": true,
      "rowLimit": 10000
     },
     "inputWidgets": {},
     "nuid": "91a3129b-83c6-4590-b28a-07d315b5a231",
     "showTitle": false,
     "tableResultSettingsMap": {},
     "title": ""
    }
   },
   "outputs": [
    {
     "output_type": "display_data",
     "data": {
      "text/html": [
       "<style scoped>\n",
       "  .table-result-container {\n",
       "    max-height: 300px;\n",
       "    overflow: auto;\n",
       "  }\n",
       "  table, th, td {\n",
       "    border: 1px solid black;\n",
       "    border-collapse: collapse;\n",
       "  }\n",
       "  th, td {\n",
       "    padding: 5px;\n",
       "  }\n",
       "  th {\n",
       "    text-align: left;\n",
       "  }\n",
       "</style><div class='table-result-container'><table class='table-result'><thead style='background-color: white'><tr><th>Produto</th><th>Quantidade_Vendida</th></tr></thead><tbody><tr><td>Latte Baunilha 36</td><td>25</td></tr><tr><td>Iced Coffee Caramelo 39</td><td>22</td></tr><tr><td>Capuccino Cremoso 24</td><td>22</td></tr></tbody></table></div>"
      ]
     },
     "metadata": {
      "application/vnd.databricks.v1+output": {
       "addedWidgets": {},
       "aggData": [],
       "aggError": "",
       "aggOverflow": false,
       "aggSchema": [],
       "aggSeriesLimitReached": false,
       "aggType": "",
       "arguments": {},
       "columnCustomDisplayInfos": {},
       "data": [
        [
         "Latte Baunilha 36",
         25
        ],
        [
         "Iced Coffee Caramelo 39",
         22
        ],
        [
         "Capuccino Cremoso 24",
         22
        ]
       ],
       "datasetInfos": [],
       "dbfsResultPath": null,
       "isJsonSchema": true,
       "metadata": {
        "createTempViewForImplicitDf": true,
        "dataframeName": "_sqldf",
        "executionCount": 2
       },
       "overflow": false,
       "plotOptions": {
        "customPlotOptions": {},
        "displayType": "table",
        "pivotAggregation": null,
        "pivotColumns": null,
        "xColumns": null,
        "yColumns": null
       },
       "removedWidgets": [],
       "schema": [
        {
         "metadata": "{\"__CHAR_VARCHAR_TYPE_STRING\":\"varchar(50)\"}",
         "name": "Produto",
         "type": "\"string\""
        },
        {
         "metadata": "{}",
         "name": "Quantidade_Vendida",
         "type": "\"long\""
        }
       ],
       "type": "table"
      }
     },
     "output_type": "display_data"
    }
   ],
   "source": [
    "%sql\n",
    "SELECT \n",
    "  p.nome AS Produto,\n",
    "  SUM(i.qtd_item) AS Quantidade_Vendida\n",
    "FROM donabaunilha.fvendas v \n",
    "JOIN donabaunilha.ditemorder i on v.id_venda = i.id_venda\n",
    "JOIN donabaunilha.dproduto p on i.id_produto = p.id_produto\n",
    "WHERE v.data_venda BETWEEN '2024-01-01' AND '2024-12-31' AND v.status = 'Concluída'\n",
    "GROUP BY ALL\n",
    "ORDER BY Quantidade_Vendida DESC\n",
    "LIMIT 3;"
   ]
  },
  {
   "cell_type": "markdown",
   "metadata": {
    "application/vnd.databricks.v1+cell": {
     "cellMetadata": {},
     "inputWidgets": {},
     "nuid": "250d9208-78c5-475b-93de-c3aacbb9bb14",
     "showTitle": false,
     "tableResultSettingsMap": {},
     "title": ""
    }
   },
   "source": [
    "**# Considerando categoria de produtos, liste os itens vendidos.**"
   ]
  },
  {
   "cell_type": "code",
   "execution_count": 0,
   "metadata": {
    "application/vnd.databricks.v1+cell": {
     "cellMetadata": {
      "byteLimit": 2048000,
      "implicitDf": true,
      "rowLimit": 10000
     },
     "inputWidgets": {},
     "nuid": "a47882f8-e4e4-446a-876c-ce097077803a",
     "showTitle": false,
     "tableResultSettingsMap": {},
     "title": ""
    }
   },
   "outputs": [
    {
     "output_type": "display_data",
     "data": {
      "text/html": [
       "<style scoped>\n",
       "  .table-result-container {\n",
       "    max-height: 300px;\n",
       "    overflow: auto;\n",
       "  }\n",
       "  table, th, td {\n",
       "    border: 1px solid black;\n",
       "    border-collapse: collapse;\n",
       "  }\n",
       "  th, td {\n",
       "    padding: 5px;\n",
       "  }\n",
       "  th {\n",
       "    text-align: left;\n",
       "  }\n",
       "</style><div class='table-result-container'><table class='table-result'><thead style='background-color: white'><tr><th>Categoria</th><th>Produto</th><th>Quantidade_Vendida</th></tr></thead><tbody><tr><td>Bebidas Geladas</td><td>Latte Baunilha 36</td><td>25</td></tr><tr><td>Brunch</td><td>Capuccino Cremoso 24</td><td>22</td></tr><tr><td>Salgados</td><td>Iced Coffee Caramelo 39</td><td>22</td></tr><tr><td>Bebidas Quentes</td><td>Pão de Queijo Gourmet 43</td><td>19</td></tr><tr><td>Bebidas Geladas</td><td>Café Jacu Bird 16</td><td>18</td></tr><tr><td>Salgados</td><td>Iced Coffee Caramelo 20</td><td>16</td></tr><tr><td>Bebidas Quentes</td><td>Café Expresso 38</td><td>16</td></tr><tr><td>Doces</td><td>Pão de Queijo Gourmet 49</td><td>14</td></tr><tr><td>Salgados</td><td>Torta de Limão 26</td><td>13</td></tr><tr><td>Cafés Especiais</td><td>Frapuccino Dona Baunilha 4</td><td>13</td></tr><tr><td>Bebidas Quentes</td><td>Torta de Limão 35</td><td>13</td></tr><tr><td>Bebidas Geladas</td><td>Capuccino Cremoso 18</td><td>12</td></tr><tr><td>Doces</td><td>Frapuccino Dona Baunilha 28</td><td>11</td></tr><tr><td>Doces</td><td>Bolo Red Velvet 50</td><td>11</td></tr><tr><td>Bebidas Quentes</td><td>Frapuccino Dona Baunilha 3</td><td>10</td></tr><tr><td>Bebidas Quentes</td><td>Capuccino Cremoso 12</td><td>10</td></tr><tr><td>Brunch</td><td>Bolo Red Velvet 42</td><td>10</td></tr><tr><td>Brunch</td><td>Cookie Gigante 19</td><td>9</td></tr><tr><td>Cafés Especiais</td><td>Latte Baunilha 44</td><td>9</td></tr><tr><td>Cafés Especiais</td><td>Capuccino Cremoso 31</td><td>8</td></tr><tr><td>Cafés Especiais</td><td>Cookie Gigante 21</td><td>8</td></tr><tr><td>Bebidas Quentes</td><td>Capuccino Cremoso 47</td><td>8</td></tr><tr><td>Salgados</td><td>Capuccino Cremoso 5</td><td>8</td></tr><tr><td>Cafés Especiais</td><td>Café Geisha Panamá 8</td><td>7</td></tr><tr><td>Brunch</td><td>Torta de Limão 13</td><td>7</td></tr><tr><td>Brunch</td><td>Bolo Red Velvet 6</td><td>7</td></tr><tr><td>Doces</td><td>Latte Baunilha 30</td><td>7</td></tr><tr><td>Brunch</td><td>Croissant Presunto e Queijo 33</td><td>7</td></tr><tr><td>Cafés Especiais</td><td>Frapuccino Dona Baunilha 17</td><td>6</td></tr><tr><td>Salgados</td><td>Frapuccino Dona Baunilha 29</td><td>6</td></tr><tr><td>Bebidas Geladas</td><td>Croissant Presunto e Queijo 10</td><td>6</td></tr><tr><td>Bebidas Quentes</td><td>Café Expresso 37</td><td>5</td></tr><tr><td>Salgados</td><td>Brunch Dona Baunilha 41</td><td>5</td></tr><tr><td>Doces</td><td>Capuccino Cremoso 46</td><td>5</td></tr><tr><td>Brunch</td><td>Frapuccino Dona Baunilha 48</td><td>5</td></tr><tr><td>Cafés Especiais</td><td>Cookie Gigante 25</td><td>5</td></tr><tr><td>Doces</td><td>Frapuccino Dona Baunilha 34</td><td>5</td></tr><tr><td>Cafés Especiais</td><td>Pão de Queijo Gourmet 2</td><td>5</td></tr><tr><td>Cafés Especiais</td><td>Torta de Limão 23</td><td>5</td></tr><tr><td>Brunch</td><td>Café Geisha Panamá 27</td><td>5</td></tr><tr><td>Doces</td><td>Frapuccino Dona Baunilha 32</td><td>4</td></tr><tr><td>Doces</td><td>Torta de Limão 1</td><td>4</td></tr><tr><td>Brunch</td><td>Croissant Presunto e Queijo 15</td><td>4</td></tr><tr><td>Doces</td><td>Café Geisha Panamá 7</td><td>2</td></tr><tr><td>Bebidas Quentes</td><td>Café Jacu Bird 45</td><td>2</td></tr><tr><td>Cafés Especiais</td><td>Torta de Limão 11</td><td>1</td></tr><tr><td>Brunch</td><td>Torta de Limão 22</td><td>1</td></tr><tr><td>Doces</td><td>Latte Baunilha 14</td><td>1</td></tr><tr><td>Bebidas Geladas</td><td>Pão de Queijo Gourmet 9</td><td>1</td></tr></tbody></table></div>"
      ]
     },
     "metadata": {
      "application/vnd.databricks.v1+output": {
       "addedWidgets": {},
       "aggData": [],
       "aggError": "",
       "aggOverflow": false,
       "aggSchema": [],
       "aggSeriesLimitReached": false,
       "aggType": "",
       "arguments": {},
       "columnCustomDisplayInfos": {},
       "data": [
        [
         "Bebidas Geladas",
         "Latte Baunilha 36",
         25
        ],
        [
         "Brunch",
         "Capuccino Cremoso 24",
         22
        ],
        [
         "Salgados",
         "Iced Coffee Caramelo 39",
         22
        ],
        [
         "Bebidas Quentes",
         "Pão de Queijo Gourmet 43",
         19
        ],
        [
         "Bebidas Geladas",
         "Café Jacu Bird 16",
         18
        ],
        [
         "Salgados",
         "Iced Coffee Caramelo 20",
         16
        ],
        [
         "Bebidas Quentes",
         "Café Expresso 38",
         16
        ],
        [
         "Doces",
         "Pão de Queijo Gourmet 49",
         14
        ],
        [
         "Salgados",
         "Torta de Limão 26",
         13
        ],
        [
         "Cafés Especiais",
         "Frapuccino Dona Baunilha 4",
         13
        ],
        [
         "Bebidas Quentes",
         "Torta de Limão 35",
         13
        ],
        [
         "Bebidas Geladas",
         "Capuccino Cremoso 18",
         12
        ],
        [
         "Doces",
         "Frapuccino Dona Baunilha 28",
         11
        ],
        [
         "Doces",
         "Bolo Red Velvet 50",
         11
        ],
        [
         "Bebidas Quentes",
         "Frapuccino Dona Baunilha 3",
         10
        ],
        [
         "Bebidas Quentes",
         "Capuccino Cremoso 12",
         10
        ],
        [
         "Brunch",
         "Bolo Red Velvet 42",
         10
        ],
        [
         "Brunch",
         "Cookie Gigante 19",
         9
        ],
        [
         "Cafés Especiais",
         "Latte Baunilha 44",
         9
        ],
        [
         "Cafés Especiais",
         "Capuccino Cremoso 31",
         8
        ],
        [
         "Cafés Especiais",
         "Cookie Gigante 21",
         8
        ],
        [
         "Bebidas Quentes",
         "Capuccino Cremoso 47",
         8
        ],
        [
         "Salgados",
         "Capuccino Cremoso 5",
         8
        ],
        [
         "Cafés Especiais",
         "Café Geisha Panamá 8",
         7
        ],
        [
         "Brunch",
         "Torta de Limão 13",
         7
        ],
        [
         "Brunch",
         "Bolo Red Velvet 6",
         7
        ],
        [
         "Doces",
         "Latte Baunilha 30",
         7
        ],
        [
         "Brunch",
         "Croissant Presunto e Queijo 33",
         7
        ],
        [
         "Cafés Especiais",
         "Frapuccino Dona Baunilha 17",
         6
        ],
        [
         "Salgados",
         "Frapuccino Dona Baunilha 29",
         6
        ],
        [
         "Bebidas Geladas",
         "Croissant Presunto e Queijo 10",
         6
        ],
        [
         "Bebidas Quentes",
         "Café Expresso 37",
         5
        ],
        [
         "Salgados",
         "Brunch Dona Baunilha 41",
         5
        ],
        [
         "Doces",
         "Capuccino Cremoso 46",
         5
        ],
        [
         "Brunch",
         "Frapuccino Dona Baunilha 48",
         5
        ],
        [
         "Cafés Especiais",
         "Cookie Gigante 25",
         5
        ],
        [
         "Doces",
         "Frapuccino Dona Baunilha 34",
         5
        ],
        [
         "Cafés Especiais",
         "Pão de Queijo Gourmet 2",
         5
        ],
        [
         "Cafés Especiais",
         "Torta de Limão 23",
         5
        ],
        [
         "Brunch",
         "Café Geisha Panamá 27",
         5
        ],
        [
         "Doces",
         "Frapuccino Dona Baunilha 32",
         4
        ],
        [
         "Doces",
         "Torta de Limão 1",
         4
        ],
        [
         "Brunch",
         "Croissant Presunto e Queijo 15",
         4
        ],
        [
         "Doces",
         "Café Geisha Panamá 7",
         2
        ],
        [
         "Bebidas Quentes",
         "Café Jacu Bird 45",
         2
        ],
        [
         "Cafés Especiais",
         "Torta de Limão 11",
         1
        ],
        [
         "Brunch",
         "Torta de Limão 22",
         1
        ],
        [
         "Doces",
         "Latte Baunilha 14",
         1
        ],
        [
         "Bebidas Geladas",
         "Pão de Queijo Gourmet 9",
         1
        ]
       ],
       "datasetInfos": [],
       "dbfsResultPath": null,
       "isJsonSchema": true,
       "metadata": {
        "createTempViewForImplicitDf": true,
        "dataframeName": "_sqldf",
        "executionCount": 4
       },
       "overflow": false,
       "plotOptions": {
        "customPlotOptions": {},
        "displayType": "table",
        "pivotAggregation": null,
        "pivotColumns": null,
        "xColumns": null,
        "yColumns": null
       },
       "removedWidgets": [],
       "schema": [
        {
         "metadata": "{\"__CHAR_VARCHAR_TYPE_STRING\":\"varchar(50)\"}",
         "name": "Categoria",
         "type": "\"string\""
        },
        {
         "metadata": "{\"__CHAR_VARCHAR_TYPE_STRING\":\"varchar(50)\"}",
         "name": "Produto",
         "type": "\"string\""
        },
        {
         "metadata": "{}",
         "name": "Quantidade_Vendida",
         "type": "\"long\""
        }
       ],
       "type": "table"
      }
     },
     "output_type": "display_data"
    }
   ],
   "source": [
    "%sql\n",
    "SELECT\n",
    "  c.nome AS Categoria,\n",
    "  p.nome AS Produto,\n",
    "  SUM(i.qtd_item) AS Quantidade_Vendida\n",
    "FROM donabaunilha.ditemorder i \n",
    "JOIN donabaunilha.dproduto p ON i.id_produto = p.id_produto\n",
    "JOIN donabaunilha.dcategoria c ON p.id_categoria = c.id_categoria\n",
    "JOIN donabaunilha.fvendas v ON i.id_venda = v.id_venda\n",
    "WHERE v.status = 'Concluída'\n",
    "GROUP BY c.nome, p.nome\n",
    "ORDER BY Quantidade_Vendida DESC"
   ]
  },
  {
   "cell_type": "markdown",
   "metadata": {
    "application/vnd.databricks.v1+cell": {
     "cellMetadata": {},
     "inputWidgets": {},
     "nuid": "e74ed6fd-65bd-4fc8-8bab-d08a7296e434",
     "showTitle": false,
     "tableResultSettingsMap": {},
     "title": ""
    }
   },
   "source": [
    "**# Qual é o valor total de vendas por categoria, em um dado período?**"
   ]
  },
  {
   "cell_type": "code",
   "execution_count": 0,
   "metadata": {
    "application/vnd.databricks.v1+cell": {
     "cellMetadata": {
      "byteLimit": 2048000,
      "implicitDf": true,
      "rowLimit": 10000
     },
     "inputWidgets": {},
     "nuid": "59fe41fe-b7d9-4d7b-98b8-9047d8c16076",
     "showTitle": false,
     "tableResultSettingsMap": {},
     "title": ""
    }
   },
   "outputs": [
    {
     "output_type": "display_data",
     "data": {
      "text/html": [
       "<style scoped>\n",
       "  .table-result-container {\n",
       "    max-height: 300px;\n",
       "    overflow: auto;\n",
       "  }\n",
       "  table, th, td {\n",
       "    border: 1px solid black;\n",
       "    border-collapse: collapse;\n",
       "  }\n",
       "  th, td {\n",
       "    padding: 5px;\n",
       "  }\n",
       "  th {\n",
       "    text-align: left;\n",
       "  }\n",
       "</style><div class='table-result-container'><table class='table-result'><thead style='background-color: white'><tr><th>Categoria</th><th>Valor_Total</th></tr></thead><tbody><tr><td>Bebidas Quentes</td><td>6489.67</td></tr><tr><td>Brunch</td><td>5206.57</td></tr><tr><td>Doces</td><td>4962.52</td></tr><tr><td>Cafés Especiais</td><td>4668.20</td></tr><tr><td>Salgados</td><td>4372.14</td></tr><tr><td>Bebidas Geladas</td><td>4280.51</td></tr></tbody></table></div>"
      ]
     },
     "metadata": {
      "application/vnd.databricks.v1+output": {
       "addedWidgets": {},
       "aggData": [],
       "aggError": "",
       "aggOverflow": false,
       "aggSchema": [],
       "aggSeriesLimitReached": false,
       "aggType": "",
       "arguments": {},
       "columnCustomDisplayInfos": {},
       "data": [
        [
         "Bebidas Quentes",
         "6489.67"
        ],
        [
         "Brunch",
         "5206.57"
        ],
        [
         "Doces",
         "4962.52"
        ],
        [
         "Cafés Especiais",
         "4668.20"
        ],
        [
         "Salgados",
         "4372.14"
        ],
        [
         "Bebidas Geladas",
         "4280.51"
        ]
       ],
       "datasetInfos": [],
       "dbfsResultPath": null,
       "isJsonSchema": true,
       "metadata": {
        "createTempViewForImplicitDf": true,
        "dataframeName": "_sqldf",
        "executionCount": 9
       },
       "overflow": false,
       "plotOptions": {
        "customPlotOptions": {},
        "displayType": "table",
        "pivotAggregation": null,
        "pivotColumns": null,
        "xColumns": null,
        "yColumns": null
       },
       "removedWidgets": [],
       "schema": [
        {
         "metadata": "{\"__CHAR_VARCHAR_TYPE_STRING\":\"varchar(50)\"}",
         "name": "Categoria",
         "type": "\"string\""
        },
        {
         "metadata": "{}",
         "name": "Valor_Total",
         "type": "\"decimal(21,2)\""
        }
       ],
       "type": "table"
      }
     },
     "output_type": "display_data"
    }
   ],
   "source": [
    "%sql\n",
    "SELECT\n",
    "  c.nome AS Categoria,\n",
    "  ROUND(SUM(i.valor_item), 2) AS Valor_Total\n",
    "FROM donabaunilha.ditemorder i \n",
    "JOIN donabaunilha.dproduto p ON i.id_produto = p.id_produto\n",
    "JOIN donabaunilha.dcategoria c ON p.id_categoria = c.id_categoria\n",
    "JOIN donabaunilha.fvendas v ON i.id_venda = v.id_venda\n",
    "WHERE v.data_venda BETWEEN '2024-01-01' AND '2024-12-31' AND v.status = 'Concluída'\n",
    "GROUP BY c.nome\n",
    "ORDER BY Valor_Total DESC"
   ]
  },
  {
   "cell_type": "markdown",
   "metadata": {
    "application/vnd.databricks.v1+cell": {
     "cellMetadata": {},
     "inputWidgets": {},
     "nuid": "a34087f9-185b-4087-9629-f9271d502eda",
     "showTitle": false,
     "tableResultSettingsMap": {},
     "title": ""
    }
   },
   "source": [
    "**# Quais foram os 10 clientes que mais compraram em um dado período?**"
   ]
  },
  {
   "cell_type": "code",
   "execution_count": 0,
   "metadata": {
    "application/vnd.databricks.v1+cell": {
     "cellMetadata": {
      "byteLimit": 2048000,
      "implicitDf": true,
      "rowLimit": 10000
     },
     "inputWidgets": {},
     "nuid": "26e2f2db-fc83-4a31-8b39-d78b2d0d5d2d",
     "showTitle": false,
     "tableResultSettingsMap": {},
     "title": ""
    }
   },
   "outputs": [
    {
     "output_type": "display_data",
     "data": {
      "text/html": [
       "<style scoped>\n",
       "  .table-result-container {\n",
       "    max-height: 300px;\n",
       "    overflow: auto;\n",
       "  }\n",
       "  table, th, td {\n",
       "    border: 1px solid black;\n",
       "    border-collapse: collapse;\n",
       "  }\n",
       "  th, td {\n",
       "    padding: 5px;\n",
       "  }\n",
       "  th {\n",
       "    text-align: left;\n",
       "  }\n",
       "</style><div class='table-result-container'><table class='table-result'><thead style='background-color: white'><tr><th>Cliente</th><th>Total_Gasto</th><th>Unidade_Negocio</th></tr></thead><tbody><tr><td>Sra. Bárbara Rocha</td><td>1422.73</td><td>Dona Baunilha São Carlos</td></tr><tr><td>Helena Jesus</td><td>1009.58</td><td>Dona Baunilha Araraquara</td></tr><tr><td>Pedro Lucas Barbosa</td><td>999.42</td><td>Dona Baunilha Matão</td></tr><tr><td>Yago Barros</td><td>955.87</td><td>Dona Baunilha Araraquara</td></tr><tr><td>Isabella da Cunha</td><td>838.04</td><td>Dona Baunilha Araraquara</td></tr><tr><td>Alexia Dias</td><td>821.61</td><td>Dona Baunilha Araraquara</td></tr><tr><td>Dra. Rebeca Cardoso</td><td>797.82</td><td>Dona Baunilha Araraquara</td></tr><tr><td>Olivia Freitas</td><td>771.31</td><td>Dona Baunilha Araraquara</td></tr><tr><td>Emilly da Cunha</td><td>758.83</td><td>Dona Baunilha São Carlos</td></tr><tr><td>Valentina Lopes</td><td>756.18</td><td>Dona Baunilha São Carlos</td></tr></tbody></table></div>"
      ]
     },
     "metadata": {
      "application/vnd.databricks.v1+output": {
       "addedWidgets": {},
       "aggData": [],
       "aggError": "",
       "aggOverflow": false,
       "aggSchema": [],
       "aggSeriesLimitReached": false,
       "aggType": "",
       "arguments": {},
       "columnCustomDisplayInfos": {},
       "data": [
        [
         "Sra. Bárbara Rocha",
         "1422.73",
         "Dona Baunilha São Carlos"
        ],
        [
         "Helena Jesus",
         "1009.58",
         "Dona Baunilha Araraquara"
        ],
        [
         "Pedro Lucas Barbosa",
         "999.42",
         "Dona Baunilha Matão"
        ],
        [
         "Yago Barros",
         "955.87",
         "Dona Baunilha Araraquara"
        ],
        [
         "Isabella da Cunha",
         "838.04",
         "Dona Baunilha Araraquara"
        ],
        [
         "Alexia Dias",
         "821.61",
         "Dona Baunilha Araraquara"
        ],
        [
         "Dra. Rebeca Cardoso",
         "797.82",
         "Dona Baunilha Araraquara"
        ],
        [
         "Olivia Freitas",
         "771.31",
         "Dona Baunilha Araraquara"
        ],
        [
         "Emilly da Cunha",
         "758.83",
         "Dona Baunilha São Carlos"
        ],
        [
         "Valentina Lopes",
         "756.18",
         "Dona Baunilha São Carlos"
        ]
       ],
       "datasetInfos": [],
       "dbfsResultPath": null,
       "isJsonSchema": true,
       "metadata": {
        "createTempViewForImplicitDf": true,
        "dataframeName": "_sqldf",
        "executionCount": 15
       },
       "overflow": false,
       "plotOptions": {
        "customPlotOptions": {},
        "displayType": "table",
        "pivotAggregation": null,
        "pivotColumns": null,
        "xColumns": null,
        "yColumns": null
       },
       "removedWidgets": [],
       "schema": [
        {
         "metadata": "{\"__CHAR_VARCHAR_TYPE_STRING\":\"varchar(50)\"}",
         "name": "Cliente",
         "type": "\"string\""
        },
        {
         "metadata": "{}",
         "name": "Total_Gasto",
         "type": "\"decimal(21,2)\""
        },
        {
         "metadata": "{\"__CHAR_VARCHAR_TYPE_STRING\":\"varchar(50)\"}",
         "name": "Unidade_Negocio",
         "type": "\"string\""
        }
       ],
       "type": "table"
      }
     },
     "output_type": "display_data"
    }
   ],
   "source": [
    "%sql\n",
    "\n",
    "SELECT\n",
    "  c.nome AS Cliente,\n",
    "  ROUND(SUM(v.valor_total),2) AS Total_Gasto,\n",
    "  b.nome AS Unidade_Negocio\n",
    "FROM donabaunilha.fvendas v\n",
    "JOIN donabaunilha.dcliente c ON v.id_cliente = c.id_cliente\n",
    "JOIN donabaunilha.dbu b ON v.id_bu = b.id_bu\n",
    "WHERE v.data_venda BETWEEN '2024-01-01' AND '2024-12-31' \n",
    "AND v.status = 'Concluída'\n",
    "GROUP BY ALL\n",
    "ORDER BY Total_Gasto DESC\n",
    "LIMIT 10"
   ]
  },
  {
   "cell_type": "markdown",
   "metadata": {
    "application/vnd.databricks.v1+cell": {
     "cellMetadata": {},
     "inputWidgets": {},
     "nuid": "2288337e-565f-4315-88be-9609446bbd68",
     "showTitle": false,
     "tableResultSettingsMap": {},
     "title": ""
    }
   },
   "source": [
    "**# Quais são os clientes qua estão há mais tempo sem comprar nada?**"
   ]
  },
  {
   "cell_type": "code",
   "execution_count": 0,
   "metadata": {
    "application/vnd.databricks.v1+cell": {
     "cellMetadata": {
      "byteLimit": 2048000,
      "implicitDf": true,
      "rowLimit": 10000
     },
     "inputWidgets": {},
     "nuid": "90670f8e-f2b5-43f9-ac9e-70553836a26a",
     "showTitle": false,
     "tableResultSettingsMap": {},
     "title": ""
    }
   },
   "outputs": [
    {
     "output_type": "display_data",
     "data": {
      "text/html": [
       "<style scoped>\n",
       "  .table-result-container {\n",
       "    max-height: 300px;\n",
       "    overflow: auto;\n",
       "  }\n",
       "  table, th, td {\n",
       "    border: 1px solid black;\n",
       "    border-collapse: collapse;\n",
       "  }\n",
       "  th, td {\n",
       "    padding: 5px;\n",
       "  }\n",
       "  th {\n",
       "    text-align: left;\n",
       "  }\n",
       "</style><div class='table-result-container'><table class='table-result'><thead style='background-color: white'><tr><th>Cliente</th><th>ultima_compra</th></tr></thead><tbody><tr><td>Isaac Dias</td><td>02/05/2024</td></tr><tr><td>Sabrina Santos</td><td>06/05/2024</td></tr><tr><td>Paulo Correia</td><td>07/05/2024</td></tr><tr><td>Sra. Ana Clara Vieira</td><td>09/05/2024</td></tr><tr><td>Pietra Castro</td><td>10/05/2024</td></tr><tr><td>Davi Pinto</td><td>11/05/2024</td></tr><tr><td>João Pedro Nunes</td><td>11/05/2024</td></tr><tr><td>Gustavo Araújo</td><td>12/05/2024</td></tr><tr><td>Yuri Lopes</td><td>15/05/2024</td></tr><tr><td>Luiz Fernando Campos</td><td>16/05/2024</td></tr><tr><td>Joaquim Novaes</td><td>18/05/2024</td></tr><tr><td>Milena das Neves</td><td>19/05/2024</td></tr><tr><td>Nathan Fogaça</td><td>20/05/2024</td></tr><tr><td>Raul Teixeira</td><td>20/05/2024</td></tr><tr><td>Evelyn Novaes</td><td>21/05/2024</td></tr><tr><td>Valentina Lopes</td><td>21/05/2024</td></tr><tr><td>Srta. Ana Júlia das Neves</td><td>21/05/2024</td></tr><tr><td>Sra. Laís Mendes</td><td>22/05/2024</td></tr><tr><td>Srta. Bruna Martins</td><td>24/05/2024</td></tr><tr><td>Dr. João Miguel Dias</td><td>24/05/2024</td></tr><tr><td>Sr. Cauê Fernandes</td><td>24/05/2024</td></tr><tr><td>Isabella da Cunha</td><td>25/05/2024</td></tr><tr><td>Davi Lucca Freitas</td><td>25/05/2024</td></tr><tr><td>Yago Barros</td><td>25/05/2024</td></tr><tr><td>Isabel Cunha</td><td>26/05/2024</td></tr><tr><td>Olivia Freitas</td><td>27/05/2024</td></tr><tr><td>Sra. Clara Castro</td><td>27/05/2024</td></tr><tr><td>Dra. Rebeca Cardoso</td><td>27/05/2024</td></tr><tr><td>Sra. Bárbara Rocha</td><td>28/05/2024</td></tr><tr><td>Alexia Dias</td><td>28/05/2024</td></tr><tr><td>Larissa Nogueira</td><td>28/05/2024</td></tr><tr><td>Pedro Lucas Barbosa</td><td>28/05/2024</td></tr><tr><td>Ana Lívia Araújo</td><td>28/05/2024</td></tr><tr><td>Emanuel Pinto</td><td>28/05/2024</td></tr><tr><td>Raquel Dias</td><td>28/05/2024</td></tr><tr><td>Beatriz Souza</td><td>28/05/2024</td></tr><tr><td>Eduardo Oliveira</td><td>29/05/2024</td></tr><tr><td>Helena Jesus</td><td>29/05/2024</td></tr><tr><td>Emilly da Cunha</td><td>29/05/2024</td></tr><tr><td>Rafael Peixoto</td><td>31/05/2024</td></tr></tbody></table></div>"
      ]
     },
     "metadata": {
      "application/vnd.databricks.v1+output": {
       "addedWidgets": {},
       "aggData": [],
       "aggError": "",
       "aggOverflow": false,
       "aggSchema": [],
       "aggSeriesLimitReached": false,
       "aggType": "",
       "arguments": {},
       "columnCustomDisplayInfos": {},
       "data": [
        [
         "Isaac Dias",
         "02/05/2024"
        ],
        [
         "Sabrina Santos",
         "06/05/2024"
        ],
        [
         "Paulo Correia",
         "07/05/2024"
        ],
        [
         "Sra. Ana Clara Vieira",
         "09/05/2024"
        ],
        [
         "Pietra Castro",
         "10/05/2024"
        ],
        [
         "Davi Pinto",
         "11/05/2024"
        ],
        [
         "João Pedro Nunes",
         "11/05/2024"
        ],
        [
         "Gustavo Araújo",
         "12/05/2024"
        ],
        [
         "Yuri Lopes",
         "15/05/2024"
        ],
        [
         "Luiz Fernando Campos",
         "16/05/2024"
        ],
        [
         "Joaquim Novaes",
         "18/05/2024"
        ],
        [
         "Milena das Neves",
         "19/05/2024"
        ],
        [
         "Nathan Fogaça",
         "20/05/2024"
        ],
        [
         "Raul Teixeira",
         "20/05/2024"
        ],
        [
         "Evelyn Novaes",
         "21/05/2024"
        ],
        [
         "Valentina Lopes",
         "21/05/2024"
        ],
        [
         "Srta. Ana Júlia das Neves",
         "21/05/2024"
        ],
        [
         "Sra. Laís Mendes",
         "22/05/2024"
        ],
        [
         "Srta. Bruna Martins",
         "24/05/2024"
        ],
        [
         "Dr. João Miguel Dias",
         "24/05/2024"
        ],
        [
         "Sr. Cauê Fernandes",
         "24/05/2024"
        ],
        [
         "Isabella da Cunha",
         "25/05/2024"
        ],
        [
         "Davi Lucca Freitas",
         "25/05/2024"
        ],
        [
         "Yago Barros",
         "25/05/2024"
        ],
        [
         "Isabel Cunha",
         "26/05/2024"
        ],
        [
         "Olivia Freitas",
         "27/05/2024"
        ],
        [
         "Sra. Clara Castro",
         "27/05/2024"
        ],
        [
         "Dra. Rebeca Cardoso",
         "27/05/2024"
        ],
        [
         "Sra. Bárbara Rocha",
         "28/05/2024"
        ],
        [
         "Alexia Dias",
         "28/05/2024"
        ],
        [
         "Larissa Nogueira",
         "28/05/2024"
        ],
        [
         "Pedro Lucas Barbosa",
         "28/05/2024"
        ],
        [
         "Ana Lívia Araújo",
         "28/05/2024"
        ],
        [
         "Emanuel Pinto",
         "28/05/2024"
        ],
        [
         "Raquel Dias",
         "28/05/2024"
        ],
        [
         "Beatriz Souza",
         "28/05/2024"
        ],
        [
         "Eduardo Oliveira",
         "29/05/2024"
        ],
        [
         "Helena Jesus",
         "29/05/2024"
        ],
        [
         "Emilly da Cunha",
         "29/05/2024"
        ],
        [
         "Rafael Peixoto",
         "31/05/2024"
        ]
       ],
       "datasetInfos": [],
       "dbfsResultPath": null,
       "isJsonSchema": true,
       "metadata": {
        "createTempViewForImplicitDf": true,
        "dataframeName": "_sqldf",
        "executionCount": 17
       },
       "overflow": false,
       "plotOptions": {
        "customPlotOptions": {},
        "displayType": "table",
        "pivotAggregation": null,
        "pivotColumns": null,
        "xColumns": null,
        "yColumns": null
       },
       "removedWidgets": [],
       "schema": [
        {
         "metadata": "{\"__CHAR_VARCHAR_TYPE_STRING\":\"varchar(50)\"}",
         "name": "Cliente",
         "type": "\"string\""
        },
        {
         "metadata": "{}",
         "name": "ultima_compra",
         "type": "\"string\""
        }
       ],
       "type": "table"
      }
     },
     "output_type": "display_data"
    }
   ],
   "source": [
    "%sql\n",
    "SELECT\n",
    "    c.nome AS Cliente,\n",
    "    date_format(MAX(v.data_venda), 'dd/MM/yyyy') AS ultima_compra\n",
    "FROM donabaunilha.fvendas v\n",
    "JOIN donabaunilha.dcliente c ON v.id_cliente = c.id_cliente\n",
    "WHERE v.status = 'Concluída'\n",
    "GROUP BY ALL\n",
    "ORDER BY Ultima_Compra ASC;"
   ]
  }
 ],
 "metadata": {
  "application/vnd.databricks.v1+notebook": {
   "computePreferences": null,
   "dashboards": [],
   "environmentMetadata": {
    "base_environment": "",
    "environment_version": "1"
   },
   "inputWidgetPreferences": null,
   "language": "python",
   "notebookMetadata": {
    "mostRecentlyExecutedCommandWithImplicitDF": {
     "commandId": 2976241588947638,
     "dataframes": [
      "_sqldf"
     ]
    },
    "pythonIndentUnit": 4
   },
   "notebookName": "01.Perguntas",
   "widgets": {}
  }
 },
 "nbformat": 4,
 "nbformat_minor": 0
}