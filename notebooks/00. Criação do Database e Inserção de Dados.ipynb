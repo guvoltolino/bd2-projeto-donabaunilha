{
 "cells": [
  {
   "cell_type": "code",
   "execution_count": 0,
   "metadata": {
    "application/vnd.databricks.v1+cell": {
     "cellMetadata": {
      "byteLimit": 2048000,
      "implicitDf": true,
      "rowLimit": 10000
     },
     "inputWidgets": {},
     "nuid": "19d987f8-c6eb-4691-bda9-d5c699e2654a",
     "showTitle": false,
     "tableResultSettingsMap": {},
     "title": ""
    }
   },
   "outputs": [
    {
     "output_type": "display_data",
     "data": {
      "text/html": [
       "<style scoped>\n",
       "  .table-result-container {\n",
       "    max-height: 300px;\n",
       "    overflow: auto;\n",
       "  }\n",
       "  table, th, td {\n",
       "    border: 1px solid black;\n",
       "    border-collapse: collapse;\n",
       "  }\n",
       "  th, td {\n",
       "    padding: 5px;\n",
       "  }\n",
       "  th {\n",
       "    text-align: left;\n",
       "  }\n",
       "</style><div class='table-result-container'><table class='table-result'><thead style='background-color: white'><tr></tr></thead><tbody></tbody></table></div>"
      ]
     },
     "metadata": {
      "application/vnd.databricks.v1+output": {
       "addedWidgets": {},
       "aggData": [],
       "aggError": "",
       "aggOverflow": false,
       "aggSchema": [],
       "aggSeriesLimitReached": false,
       "aggType": "",
       "arguments": {},
       "columnCustomDisplayInfos": {},
       "data": [],
       "datasetInfos": [],
       "dbfsResultPath": null,
       "isJsonSchema": true,
       "metadata": {
        "dataframeName": null
       },
       "overflow": false,
       "plotOptions": {
        "customPlotOptions": {},
        "displayType": "table",
        "pivotAggregation": null,
        "pivotColumns": null,
        "xColumns": null,
        "yColumns": null
       },
       "removedWidgets": [],
       "schema": [],
       "type": "table"
      }
     },
     "output_type": "display_data"
    }
   ],
   "source": [
    "%sql\n",
    "-- Criando Schema/Database \n",
    "CREATE SCHEMA IF NOT EXISTS donabaunilha;\n",
    "\n",
    "-- Apagando Tabela Dimensões e Fato\n",
    "DROP TABLE IF EXISTS donabaunilha.dendereco;\n",
    "DROP TABLE IF EXISTS donabaunilha.dcliente;\n",
    "DROP TABLE IF EXISTS donabaunilha.dbu;\n",
    "DROP TABLE IF EXISTS donabaunilha.dcategoria;\n",
    "DROP TABLE IF EXISTS donabaunilha.dproduto;\n",
    "DROP TABLE IF EXISTS donabaunilha.ditemorder;\n",
    "DROP TABLE IF EXISTS donabaunilha.fvendas;"
   ]
  },
  {
   "cell_type": "code",
   "execution_count": 0,
   "metadata": {
    "application/vnd.databricks.v1+cell": {
     "cellMetadata": {
      "byteLimit": 2048000,
      "rowLimit": 10000
     },
     "inputWidgets": {},
     "nuid": "bf6d3f1c-c94d-467f-9bce-b9aa7d9d21cb",
     "showTitle": false,
     "tableResultSettingsMap": {},
     "title": ""
    }
   },
   "outputs": [
    {
     "output_type": "execute_result",
     "data": {
      "text/plain": [
       "True"
      ]
     },
     "execution_count": 26,
     "metadata": {},
     "output_type": "execute_result"
    }
   ],
   "source": [
    "#Limpando os registro delta\n",
    "dbutils.fs.rm(\"dbfs:/user/hive/warehouse/donabaunilha/dendereco\", True)\n",
    "dbutils.fs.rm(\"dbfs:/user/hive/warehouse/donabaunilha/dcliente\", True)\n",
    "dbutils.fs.rm(\"dbfs:/user/hive/warehouse/donabaunilha/dbu\", True)\n",
    "dbutils.fs.rm(\"dbfs:/user/hive/warehouse/donabaunilha/dcategoria\", True)\n",
    "dbutils.fs.rm(\"dbfs:/user/hive/warehouse/donabaunilha/dproduto\", True)\n",
    "dbutils.fs.rm(\"dbfs:/user/hive/warehouse/donabaunilha/ditemorder\", True)\n",
    "dbutils.fs.rm(\"dbfs:/user/hive/warehouse/donabaunilha/fvendas\", True)"
   ]
  },
  {
   "cell_type": "code",
   "execution_count": 0,
   "metadata": {
    "application/vnd.databricks.v1+cell": {
     "cellMetadata": {
      "byteLimit": 2048000,
      "implicitDf": true,
      "rowLimit": 10000
     },
     "inputWidgets": {},
     "nuid": "942c4d0f-bca1-434e-8aff-f4603d749514",
     "showTitle": false,
     "tableResultSettingsMap": {},
     "title": ""
    }
   },
   "outputs": [
    {
     "output_type": "display_data",
     "data": {
      "text/html": [
       "<style scoped>\n",
       "  .table-result-container {\n",
       "    max-height: 300px;\n",
       "    overflow: auto;\n",
       "  }\n",
       "  table, th, td {\n",
       "    border: 1px solid black;\n",
       "    border-collapse: collapse;\n",
       "  }\n",
       "  th, td {\n",
       "    padding: 5px;\n",
       "  }\n",
       "  th {\n",
       "    text-align: left;\n",
       "  }\n",
       "</style><div class='table-result-container'><table class='table-result'><thead style='background-color: white'><tr></tr></thead><tbody></tbody></table></div>"
      ]
     },
     "metadata": {
      "application/vnd.databricks.v1+output": {
       "addedWidgets": {},
       "aggData": [],
       "aggError": "",
       "aggOverflow": false,
       "aggSchema": [],
       "aggSeriesLimitReached": false,
       "aggType": "",
       "arguments": {},
       "columnCustomDisplayInfos": {},
       "data": [],
       "datasetInfos": [],
       "dbfsResultPath": null,
       "isJsonSchema": true,
       "metadata": {
        "dataframeName": null
       },
       "overflow": false,
       "plotOptions": {
        "customPlotOptions": {},
        "displayType": "table",
        "pivotAggregation": null,
        "pivotColumns": null,
        "xColumns": null,
        "yColumns": null
       },
       "removedWidgets": [],
       "schema": [],
       "type": "table"
      }
     },
     "output_type": "display_data"
    }
   ],
   "source": [
    "%sql\n",
    "\n",
    "-- Criando a Tabela Dimensão de Endereço\n",
    "CREATE TABLE IF NOT EXISTS donabaunilha.dendereco (\n",
    "  id_endereco INT,\n",
    "  logradouro VARCHAR(50),\n",
    "  numero INT,\n",
    "  complemento VARCHAR(50),\n",
    "  cidade VARCHAR(50),\n",
    "  estado VARCHAR(50),\n",
    "  cep VARCHAR(10)\n",
    ") USING DELTA LOCATION 'dbfs:/user/hive/warehouse/donabaunilha/dendereco';"
   ]
  },
  {
   "cell_type": "code",
   "execution_count": 0,
   "metadata": {
    "application/vnd.databricks.v1+cell": {
     "cellMetadata": {
      "byteLimit": 2048000,
      "implicitDf": true,
      "rowLimit": 10000
     },
     "inputWidgets": {},
     "nuid": "a23f35c7-37fd-44a2-af6d-ac1bf4cfd155",
     "showTitle": false,
     "tableResultSettingsMap": {},
     "title": ""
    }
   },
   "outputs": [
    {
     "output_type": "display_data",
     "data": {
      "text/html": [
       "<style scoped>\n",
       "  .table-result-container {\n",
       "    max-height: 300px;\n",
       "    overflow: auto;\n",
       "  }\n",
       "  table, th, td {\n",
       "    border: 1px solid black;\n",
       "    border-collapse: collapse;\n",
       "  }\n",
       "  th, td {\n",
       "    padding: 5px;\n",
       "  }\n",
       "  th {\n",
       "    text-align: left;\n",
       "  }\n",
       "</style><div class='table-result-container'><table class='table-result'><thead style='background-color: white'><tr><th>num_affected_rows</th><th>num_inserted_rows</th></tr></thead><tbody><tr><td>50</td><td>50</td></tr></tbody></table></div>"
      ]
     },
     "metadata": {
      "application/vnd.databricks.v1+output": {
       "addedWidgets": {},
       "aggData": [],
       "aggError": "",
       "aggOverflow": false,
       "aggSchema": [],
       "aggSeriesLimitReached": false,
       "aggType": "",
       "arguments": {},
       "columnCustomDisplayInfos": {},
       "data": [
        [
         50,
         50
        ]
       ],
       "datasetInfos": [],
       "dbfsResultPath": null,
       "isJsonSchema": true,
       "metadata": {
        "createTempViewForImplicitDf": true,
        "dataframeName": "_sqldf",
        "executionCount": 27
       },
       "overflow": false,
       "plotOptions": {
        "customPlotOptions": {},
        "displayType": "table",
        "pivotAggregation": null,
        "pivotColumns": null,
        "xColumns": null,
        "yColumns": null
       },
       "removedWidgets": [],
       "schema": [
        {
         "metadata": "{}",
         "name": "num_affected_rows",
         "type": "\"long\""
        },
        {
         "metadata": "{}",
         "name": "num_inserted_rows",
         "type": "\"long\""
        }
       ],
       "type": "table"
      }
     },
     "output_type": "display_data"
    }
   ],
   "source": [
    "%sql\n",
    "\n",
    "--Inserindo dados na Tabela Endereço\n",
    "INSERT INTO donabaunilha.dendereco(id_endereco, logradouro, numero, complemento, cidade, estado, cep)\n",
    "VALUES \n",
    "(1, 'Avenida das Flores', 168, 'Casa', 'Matão', 'São Paulo', '15990-000'),\n",
    "(2, 'Lucca Fernandes', 655, 'Fundos', 'Rocha do Norte', 'SP', '53027267'),\n",
    "(3, 'Largo da Costa', 652, 'Fundos', 'Porto da Prata', 'SP', '25944-763'),\n",
    "(4, 'Viaduto Enzo da Paz', 310, 'Cobertura', 'Martins', 'SP', '10723954'),\n",
    "(5, 'Condomínio Teixeira', 218, 'Fundos', 'Moreira', 'SP', '39698-315'),\n",
    "(6, 'Trevo Guilherme Ribeiro', 671, 'Andar 1', 'Rocha Grande', 'SP', '27768838'),\n",
    "(7, 'Conjunto Ana Júlia Vieira', 271, 'Loja 2', 'Campos', 'SP', '62848-816'),\n",
    "(8, 'Via da Mata', 173, 'Loja 2', 'Almeida', 'SP', '19562205'),\n",
    "(9, 'Largo de Moreira', 68, 'Casa', 'Moura da Prata', 'SP', '02066-708'),\n",
    "(10, 'Passarela da Mota', 800, 'Casa', 'Alves da Prata', 'SP', '21224-475'),\n",
    "(11, 'Condomínio de das Neves', 830, 'Bloco B', 'Costela', 'SP', '48479-206'),\n",
    "(12, 'Otávio Freitas', 152, 'Andar 1', 'Vieira Verde', 'SP', '28412-303'),\n",
    "(13, 'Conjunto Silveira', 831, 'Sala 3', 'Pinto', 'SP', '05502230'),\n",
    "(14, 'Colônia Moreira', 41, 'Fundos', 'Monteiro do Norte', 'SP', '56576722'),\n",
    "(15, 'Recanto Barros', 504, 'Apto 101', 'Souza', 'SP', '35236-762'),\n",
    "(16, 'Vereda de Lima', 23, 'Fundos', 'da Rosa', 'SP', '61624202'),\n",
    "(17, 'Sítio Almeida', 424, 'Cobertura', 'Rodrigues', 'SP', '47879491'),\n",
    "(18, 'Estrada Rocha', 976, 'Bloco B', 'Fernandes', 'SP', '87711906'),\n",
    "(19, 'Colônia de Santos', 618, 'Fundos', 'da Mata do Galho', 'SP', '80441659'),\n",
    "(20, 'Jardim Alana da Rocha', 60, 'Casa', 'Moura', 'SP', '42234764'),\n",
    "(21, 'Rodovia Alves', 608, 'Sala 3', 'Lopes do Oeste', 'SP', '86577-113'),\n",
    "(22, 'Quadra de Rezende', 247, 'Casa', 'Fogaça', 'SP', '81090-346'),\n",
    "(23, 'Residencial de da Cruz', 114, 'Fundos', 'Castro da Mata', 'SP', '46023-609'),\n",
    "(24, 'Morro Porto', 995, 'Casa', 'Gonçalves', 'SP', '09397-471'),\n",
    "(25, 'Recanto Maria Alice da Mata', 804, 'Bloco B', 'Gonçalves', 'SP', '50478512'),\n",
    "(26, 'Ladeira de da Conceição', 181, 'Andar 1', 'da Rosa', 'SP', '43193114'),\n",
    "(27, 'Trecho Joana Almeida', 16, 'Apto 202', 'Nogueira do Campo', 'SP', '20602-792'),\n",
    "(28, 'Sítio de Mendes', 714, 'Loja 2', 'Sales da Mata', 'SP', '03143066'),\n",
    "(29, 'Rua de Costa', 447, 'Casa', 'Rezende', 'SP', '31940675'),\n",
    "(30, 'Estrada Souza', 874, 'Bloco B', 'Nascimento', 'SP', '35792-182'),\n",
    "(31, 'Ladeira Calebe Barros', 917, 'Apto 202', 'Cardoso', 'SP', '72604947'),\n",
    "(32, 'Alameda de da Costa', 567, 'Apto 202', 'Campos', 'SP', '57724893'),\n",
    "(33, 'Vereda Ramos', 103, 'Fundos', 'Cardoso', 'SP', '17927-436'),\n",
    "(34, 'Parque Freitas', 203, 'Sem complemento', 'Sales', 'SP', '13126-154'),\n",
    "(35, 'Passarela de Alves', 38, 'Bloco B', 'Peixoto', 'SP', '94752774'),\n",
    "(36, 'Jardim Davi Luiz Moraes', 310, 'Bloco B', 'Peixoto', 'SP', '10823692'),\n",
    "(37, 'Estação Laura da Paz', 925, 'Loja 2', 'Santos', 'SP', '67906-189'),\n",
    "(38, 'Loteamento Rocha', 291, 'Andar 1', 'Nascimento', 'SP', '04131-695'),\n",
    "(39, 'Residencial Guilherme Almeida', 338, 'Loja 2', 'da Mata', 'SP', '64399143'),\n",
    "(40, 'Conjunto de Ferreira', 259, 'Loja 2', 'Teixeira de Goiás', 'SP', '35441918'),\n",
    "(41, 'Passarela Fogaça', 478, 'Apto 202', 'Vieira de Nunes', 'SP', '58924-814'),\n",
    "(42, 'Setor Teixeira', 404, 'Sala 3', 'Cardoso Paulista', 'SP', '04243517'),\n",
    "(43, 'Sítio Melo', 648, 'Cobertura', 'Farias do Amparo', 'SP', '96447122'),\n",
    "(44, 'Viaduto Melo', 166, 'Cobertura', 'Rodrigues de Costa', 'SP', '90009725'),\n",
    "(45, 'Sítio Ana Clara da Mota', 805, 'Casa', 'Nascimento', 'SP', '40549-575'),\n",
    "(46, 'Recanto de Nascimento', 57, 'Apto 101', 'Lima', 'SP', '58440-093'),\n",
    "(47, 'Núcleo Lucas Porto', 501, 'Bloco B', 'da Cunha', 'SP', '57772173'),\n",
    "(48, 'Jardim Costa', 216, 'Bloco B', 'Martins', 'SP', '50367071'),\n",
    "(49, 'Parque Mendes', 488, 'Bloco B', 'Viana', 'SP', '36810551'),\n",
    "(50, 'Condomínio Alana Ribeiro', 237, 'Cobertura', 'Cunha do Sul', 'SP', '49200-114');\n"
   ]
  },
  {
   "cell_type": "code",
   "execution_count": 0,
   "metadata": {
    "application/vnd.databricks.v1+cell": {
     "cellMetadata": {
      "byteLimit": 2048000,
      "implicitDf": true,
      "rowLimit": 10000
     },
     "inputWidgets": {},
     "nuid": "ee4dc7f8-e7e6-4a6c-860f-948fbe85ddb5",
     "showTitle": false,
     "tableResultSettingsMap": {},
     "title": ""
    }
   },
   "outputs": [
    {
     "output_type": "display_data",
     "data": {
      "text/html": [
       "<style scoped>\n",
       "  .table-result-container {\n",
       "    max-height: 300px;\n",
       "    overflow: auto;\n",
       "  }\n",
       "  table, th, td {\n",
       "    border: 1px solid black;\n",
       "    border-collapse: collapse;\n",
       "  }\n",
       "  th, td {\n",
       "    padding: 5px;\n",
       "  }\n",
       "  th {\n",
       "    text-align: left;\n",
       "  }\n",
       "</style><div class='table-result-container'><table class='table-result'><thead style='background-color: white'><tr></tr></thead><tbody></tbody></table></div>"
      ]
     },
     "metadata": {
      "application/vnd.databricks.v1+output": {
       "addedWidgets": {},
       "aggData": [],
       "aggError": "",
       "aggOverflow": false,
       "aggSchema": [],
       "aggSeriesLimitReached": false,
       "aggType": "",
       "arguments": {},
       "columnCustomDisplayInfos": {},
       "data": [],
       "datasetInfos": [],
       "dbfsResultPath": null,
       "isJsonSchema": true,
       "metadata": {
        "dataframeName": null
       },
       "overflow": false,
       "plotOptions": {
        "customPlotOptions": {},
        "displayType": "table",
        "pivotAggregation": null,
        "pivotColumns": null,
        "xColumns": null,
        "yColumns": null
       },
       "removedWidgets": [],
       "schema": [],
       "type": "table"
      }
     },
     "output_type": "display_data"
    }
   ],
   "source": [
    "%sql\n",
    "\n",
    "-- Criando a Tabela Dimensão de Cliente\n",
    "CREATE TABLE IF NOT EXISTS donabaunilha.dcliente (\n",
    "  id_cliente INT,\n",
    "  id_endereco INT,\n",
    "  nome VARCHAR(50),\n",
    "  email VARCHAR(50),\n",
    "  cpf VARCHAR(15),\n",
    "  telefone VARCHAR(50)\n",
    ") USING DELTA LOCATION 'dbfs:/user/hive/warehouse/donabaunilha/dcliente';"
   ]
  },
  {
   "cell_type": "code",
   "execution_count": 0,
   "metadata": {
    "application/vnd.databricks.v1+cell": {
     "cellMetadata": {
      "byteLimit": 2048000,
      "implicitDf": true,
      "rowLimit": 10000
     },
     "inputWidgets": {},
     "nuid": "f4628392-a308-47dc-91d2-24d1b44978a2",
     "showTitle": false,
     "tableResultSettingsMap": {},
     "title": ""
    }
   },
   "outputs": [
    {
     "output_type": "display_data",
     "data": {
      "text/html": [
       "<style scoped>\n",
       "  .table-result-container {\n",
       "    max-height: 300px;\n",
       "    overflow: auto;\n",
       "  }\n",
       "  table, th, td {\n",
       "    border: 1px solid black;\n",
       "    border-collapse: collapse;\n",
       "  }\n",
       "  th, td {\n",
       "    padding: 5px;\n",
       "  }\n",
       "  th {\n",
       "    text-align: left;\n",
       "  }\n",
       "</style><div class='table-result-container'><table class='table-result'><thead style='background-color: white'><tr><th>num_affected_rows</th><th>num_inserted_rows</th></tr></thead><tbody><tr><td>50</td><td>50</td></tr></tbody></table></div>"
      ]
     },
     "metadata": {
      "application/vnd.databricks.v1+output": {
       "addedWidgets": {},
       "aggData": [],
       "aggError": "",
       "aggOverflow": false,
       "aggSchema": [],
       "aggSeriesLimitReached": false,
       "aggType": "",
       "arguments": {},
       "columnCustomDisplayInfos": {},
       "data": [
        [
         50,
         50
        ]
       ],
       "datasetInfos": [],
       "dbfsResultPath": null,
       "isJsonSchema": true,
       "metadata": {
        "createTempViewForImplicitDf": true,
        "dataframeName": "_sqldf",
        "executionCount": 28
       },
       "overflow": false,
       "plotOptions": {
        "customPlotOptions": {},
        "displayType": "table",
        "pivotAggregation": null,
        "pivotColumns": null,
        "xColumns": null,
        "yColumns": null
       },
       "removedWidgets": [],
       "schema": [
        {
         "metadata": "{}",
         "name": "num_affected_rows",
         "type": "\"long\""
        },
        {
         "metadata": "{}",
         "name": "num_inserted_rows",
         "type": "\"long\""
        }
       ],
       "type": "table"
      }
     },
     "output_type": "display_data"
    }
   ],
   "source": [
    "%sql\n",
    "\n",
    "--Inserindo dados na Tabela Cliente\n",
    "\n",
    "INSERT INTO donabaunilha.dcliente (id_cliente, id_endereco, nome, cpf, email, telefone) VALUES\n",
    "(1, 1, 'Sra. Ana Clara Vieira', '716.305.289-86', 'zda-conceicao@da.br', '+55 (011) 4985-8427'),\n",
    "(2, 2, 'Eduardo Oliveira', '895.402.361-42', 'souzaisabel@gmail.com', '61 4739-6356'),\n",
    "(3, 3, 'Isabella da Cunha', '386.294.175-28', 'davi03@uol.com.br', '0500 729 6367'),\n",
    "(4, 4, 'Ana Lívia Araújo', '743.520.816-71', 'heloisaalves@moura.com', '+55 21 6680 6717'),\n",
    "(5, 5, 'Pietra Castro', '849.150.637-39', 'mariana72@ig.com.br', '(084) 0706-0290'),\n",
    "(6, 6, 'Sra. Bárbara Rocha', '760.512.348-53', 'yasmin11@teixeira.com', '(081) 3842 7079'),\n",
    "(7, 7, 'Milena das Neves', '649.087.125-49', 'raquel82@carvalho.com', '+55 84 4860 3117'),\n",
    "(8, 8, 'João Teixeira', '623.075.894-65', 'igor89@yahoo.com.br', '+55 (041) 6098 0997'),\n",
    "(9, 9, 'Beatriz Souza', '378.921.045-50', 'tda-paz@hotmail.com', '+55 (051) 8274 1007'),\n",
    "(10, 10, 'Kaique da Cunha', '104.367.589-20', 'rochavitor@caldeira.br', '+55 21 1026 2100'),\n",
    "(11, 11, 'Yago Barros', '497.365.802-29', 'bernardocorreia@castro.com', '0500-918-2602'),\n",
    "(12, 12, 'Dr. João Miguel Dias', '150.293.746-80', 'epires@ig.com.br', '(081) 6103 4451'),\n",
    "(13, 13, 'Alexia Dias', '460.538.917-20', 'thiago91@dias.org', '61 0738 7553'),\n",
    "(14, 14, 'João Pedro Nunes', '843.072.916-03', 'ffarias@moura.br', '+55 21 3971 4648'),\n",
    "(15, 15, 'Srta. Bruna Martins', '874.531.962-64', 'julia00@hotmail.com', '71 8554 3017'),\n",
    "(16, 16, 'Gustavo Araújo', '380.572.169-21', 'catarinaaraujo@peixoto.br', '(041) 5260 1048'),\n",
    "(17, 17, 'Raquel Dias', '752.396.814-73', 'arthurda-paz@cardoso.com', '(081) 6075 3258'),\n",
    "(18, 18, 'Sr. Paulo Carvalho', '318.509.627-40', 'da-motamaria-luiza@carvalho.com', '71 7582 4129'),\n",
    "(19, 19, 'Olivia Freitas', '296.754.803-00', 'enzodas-neves@teixeira.com', '+55 (081) 8016 9867'),\n",
    "(20, 20, 'Larissa Nogueira', '283.749.650-29', 'brunomendes@yahoo.com.br', '+55 (071) 9446-7357'),\n",
    "(21, 21, 'Sra. Clara Castro', '618.957.023-21', 'danilo34@hotmail.com', '(051) 8270 6788'),\n",
    "(22, 22, 'João Miguel Fogaça', '950.463.271-80', 'manuela35@uol.com.br', '+55 81 6201-4143'),\n",
    "(23, 23, 'Sra. Laís Mendes', '825.973.410-97', 'novaesmaria-vitoria@melo.org', '+55 (041) 5054 8830'),\n",
    "(24, 24, 'Yuri Lopes', '210.743.965-61', 'theo98@yahoo.com.br', '+55 31 6565-2871'),\n",
    "(25, 25, 'Luiz Fernando Campos', '495.130.872-04', 'luigi90@hotmail.com', '(041) 2858-1214'),\n",
    "(26, 26, 'Isabel Cunha', '892.160.734-03', 'vicente80@moraes.org', '(051) 4375-7953'),\n",
    "(27, 27, 'Lavínia Melo', '578.120.639-68', 'rafael49@azevedo.com', '0900 534 2409'),\n",
    "(28, 28, 'Sr. Cauê Fernandes', '694.127.580-49', 'clariceda-luz@ig.com.br', '(021) 8121 2030'),\n",
    "(29, 29, 'Dr. Marcos Vinicius Melo', '368.175.294-09', 'da-luzsophie@campos.br', '+55 (071) 0517-5816'),\n",
    "(30, 30, 'Srta. Ana Júlia das Neves', '519.683.740-00', 'carolineazevedo@gmail.com', '+55 (031) 8154-5369'),\n",
    "(31, 31, 'Raul Teixeira', '806.319.754-20', 'joao-feliperibeiro@hotmail.com', '+55 (031) 4873 3321'),\n",
    "(32, 32, 'Sabrina Santos', '130.879.654-48', 'goncalvesana-julia@santos.br', '+55 (021) 7125 5453'),\n",
    "(33, 33, 'Evelyn Novaes', '865.039.471-00', 'campossabrina@yahoo.com.br', '(041) 7389-5678'),\n",
    "(34, 34, 'Paulo Correia', '925.873.014-32', 'liviacorreia@barbosa.br', '+55 (084) 2853-1213'),\n",
    "(35, 35, 'Dr. Marcelo Mendes', '501.427.368-80', 'vbarbosa@souza.br', '+55 31 8450-8807'),\n",
    "(36, 36, 'Pedro Lucas Barbosa', '746.598.102-67', 'matheuscavalcanti@hotmail.com', '0500-953-2346'),\n",
    "(37, 37, 'Nathan Fogaça', '351.749.862-91', 'erick65@gmail.com', '0500 445 2002'),\n",
    "(38, 38, 'Gabriela Gonçalves', '918.475.623-37', 'augustoda-conceicao@gmail.com', '0500 816 0266'),\n",
    "(39, 39, 'Rafael Peixoto', '261.794.385-28', 'brunopires@vieira.com', '21 6693-2121'),\n",
    "(40, 40, 'Joaquim Novaes', '920.743.815-14', 'vinicius69@moraes.com', '+55 (011) 2576-3552'),\n",
    "(41, 41, 'Davi Lucca Freitas', '061.854.239-60', 'brunarezende@oliveira.br', '+55 11 0984 0634'),\n",
    "(42, 42, 'Davi Pinto', '519.346.028-33', 'ocaldeira@costela.br', '+55 (051) 3042 6545'),\n",
    "(43, 43, 'Helena Jesus', '893.741.605-01', 'lucas-gabriel63@alves.com', '+55 71 4333 3488'),\n",
    "(44, 44, 'Emanuel Pinto', '380.251.974-41', 'nathanpereira@fernandes.com', '(021) 0295 7584'),\n",
    "(45, 45, 'Emilly da Cunha', '127.689.405-85', 'elisacarvalho@fogaca.org', '(041) 0918-0041'),\n",
    "(46, 46, 'Valentina Lopes', '076.598.231-59', 'ana-luizamonteiro@goncalves.net', '(081) 7066-6520'),\n",
    "(47, 47, 'Mariana Campos', '758.043.921-23', 'erickduarte@gmail.com', '+55 21 2523-7017'),\n",
    "(48, 48, 'Isaac Dias', '109.567.438-20', 'juliapereira@ig.com.br', '+55 (071) 8369-4868'),\n",
    "(49, 49, 'Luigi Pereira', '327.016.458-08', 'raul34@goncalves.com', '(041) 0171-7022'),\n",
    "(50, 50, 'Dra. Rebeca Cardoso', '035.829.671-40', 'bruno27@farias.com', '0300 440 1301');\n"
   ]
  },
  {
   "cell_type": "code",
   "execution_count": 0,
   "metadata": {
    "application/vnd.databricks.v1+cell": {
     "cellMetadata": {
      "byteLimit": 2048000,
      "implicitDf": true,
      "rowLimit": 10000
     },
     "inputWidgets": {},
     "nuid": "c385ecbc-6b09-4373-8050-9c0663874d3c",
     "showTitle": false,
     "tableResultSettingsMap": {},
     "title": ""
    }
   },
   "outputs": [
    {
     "output_type": "display_data",
     "data": {
      "text/html": [
       "<style scoped>\n",
       "  .table-result-container {\n",
       "    max-height: 300px;\n",
       "    overflow: auto;\n",
       "  }\n",
       "  table, th, td {\n",
       "    border: 1px solid black;\n",
       "    border-collapse: collapse;\n",
       "  }\n",
       "  th, td {\n",
       "    padding: 5px;\n",
       "  }\n",
       "  th {\n",
       "    text-align: left;\n",
       "  }\n",
       "</style><div class='table-result-container'><table class='table-result'><thead style='background-color: white'><tr></tr></thead><tbody></tbody></table></div>"
      ]
     },
     "metadata": {
      "application/vnd.databricks.v1+output": {
       "addedWidgets": {},
       "aggData": [],
       "aggError": "",
       "aggOverflow": false,
       "aggSchema": [],
       "aggSeriesLimitReached": false,
       "aggType": "",
       "arguments": {},
       "columnCustomDisplayInfos": {},
       "data": [],
       "datasetInfos": [],
       "dbfsResultPath": null,
       "isJsonSchema": true,
       "metadata": {
        "dataframeName": null
       },
       "overflow": false,
       "plotOptions": {
        "customPlotOptions": {},
        "displayType": "table",
        "pivotAggregation": null,
        "pivotColumns": null,
        "xColumns": null,
        "yColumns": null
       },
       "removedWidgets": [],
       "schema": [],
       "type": "table"
      }
     },
     "output_type": "display_data"
    }
   ],
   "source": [
    "%sql\n",
    "\n",
    "-- Criando a Tabela Dimensão de BU\n",
    "CREATE TABLE IF NOT EXISTS donabaunilha.dbu (\n",
    "  id_bu INT,\n",
    "  nome VARCHAR(50),\n",
    "  logradouro VARCHAR(50),\n",
    "  numero INT,\n",
    "  cidade VARCHAR(50),\n",
    "  estado VARCHAR(50),\n",
    "  cep VARCHAR(10)\n",
    ") USING DELTA LOCATION 'dbfs:/user/hive/warehouse/donabaunilha/dbu';"
   ]
  },
  {
   "cell_type": "code",
   "execution_count": 0,
   "metadata": {
    "application/vnd.databricks.v1+cell": {
     "cellMetadata": {
      "byteLimit": 2048000,
      "implicitDf": true,
      "rowLimit": 10000
     },
     "inputWidgets": {},
     "nuid": "f408ea2e-5012-4cfc-a93e-9ad4451e97c9",
     "showTitle": false,
     "tableResultSettingsMap": {},
     "title": ""
    }
   },
   "outputs": [
    {
     "output_type": "display_data",
     "data": {
      "text/html": [
       "<style scoped>\n",
       "  .table-result-container {\n",
       "    max-height: 300px;\n",
       "    overflow: auto;\n",
       "  }\n",
       "  table, th, td {\n",
       "    border: 1px solid black;\n",
       "    border-collapse: collapse;\n",
       "  }\n",
       "  th, td {\n",
       "    padding: 5px;\n",
       "  }\n",
       "  th {\n",
       "    text-align: left;\n",
       "  }\n",
       "</style><div class='table-result-container'><table class='table-result'><thead style='background-color: white'><tr><th>num_affected_rows</th><th>num_inserted_rows</th></tr></thead><tbody><tr><td>3</td><td>3</td></tr></tbody></table></div>"
      ]
     },
     "metadata": {
      "application/vnd.databricks.v1+output": {
       "addedWidgets": {},
       "aggData": [],
       "aggError": "",
       "aggOverflow": false,
       "aggSchema": [],
       "aggSeriesLimitReached": false,
       "aggType": "",
       "arguments": {},
       "columnCustomDisplayInfos": {},
       "data": [
        [
         3,
         3
        ]
       ],
       "datasetInfos": [],
       "dbfsResultPath": null,
       "isJsonSchema": true,
       "metadata": {
        "createTempViewForImplicitDf": true,
        "dataframeName": "_sqldf",
        "executionCount": 29
       },
       "overflow": false,
       "plotOptions": {
        "customPlotOptions": {},
        "displayType": "table",
        "pivotAggregation": null,
        "pivotColumns": null,
        "xColumns": null,
        "yColumns": null
       },
       "removedWidgets": [],
       "schema": [
        {
         "metadata": "{}",
         "name": "num_affected_rows",
         "type": "\"long\""
        },
        {
         "metadata": "{}",
         "name": "num_inserted_rows",
         "type": "\"long\""
        }
       ],
       "type": "table"
      }
     },
     "output_type": "display_data"
    }
   ],
   "source": [
    "%sql\n",
    "\n",
    "--Inserindo dados na Tabela BU\n",
    "\n",
    "INSERT INTO donabaunilha.dbu (id_bu, nome, logradouro, numero, cidade, estado, cep) VALUES\n",
    "(1, 'Dona Baunilha Araraquara', 'Av. Principal', 100, 'Araraquara', 'SP', '14800-000'),\n",
    "(2, 'Dona Baunilha Matão', 'Rua do Café', 200, 'Matão', 'SP', '15990-000'),\n",
    "(3, 'Dona Baunilha São Carlos', 'Av. Central', 300, 'São Carlos', 'SP', '13560-000');"
   ]
  },
  {
   "cell_type": "code",
   "execution_count": 0,
   "metadata": {
    "application/vnd.databricks.v1+cell": {
     "cellMetadata": {
      "byteLimit": 2048000,
      "implicitDf": true,
      "rowLimit": 10000
     },
     "inputWidgets": {},
     "nuid": "7bcf8c66-5ffb-4906-8750-b4745961c5ce",
     "showTitle": false,
     "tableResultSettingsMap": {},
     "title": ""
    }
   },
   "outputs": [
    {
     "output_type": "display_data",
     "data": {
      "text/html": [
       "<style scoped>\n",
       "  .table-result-container {\n",
       "    max-height: 300px;\n",
       "    overflow: auto;\n",
       "  }\n",
       "  table, th, td {\n",
       "    border: 1px solid black;\n",
       "    border-collapse: collapse;\n",
       "  }\n",
       "  th, td {\n",
       "    padding: 5px;\n",
       "  }\n",
       "  th {\n",
       "    text-align: left;\n",
       "  }\n",
       "</style><div class='table-result-container'><table class='table-result'><thead style='background-color: white'><tr></tr></thead><tbody></tbody></table></div>"
      ]
     },
     "metadata": {
      "application/vnd.databricks.v1+output": {
       "addedWidgets": {},
       "aggData": [],
       "aggError": "",
       "aggOverflow": false,
       "aggSchema": [],
       "aggSeriesLimitReached": false,
       "aggType": "",
       "arguments": {},
       "columnCustomDisplayInfos": {},
       "data": [],
       "datasetInfos": [],
       "dbfsResultPath": null,
       "isJsonSchema": true,
       "metadata": {
        "dataframeName": null
       },
       "overflow": false,
       "plotOptions": {
        "customPlotOptions": {},
        "displayType": "table",
        "pivotAggregation": null,
        "pivotColumns": null,
        "xColumns": null,
        "yColumns": null
       },
       "removedWidgets": [],
       "schema": [],
       "type": "table"
      }
     },
     "output_type": "display_data"
    }
   ],
   "source": [
    "%sql\n",
    "\n",
    "-- Criando a Tabela Dimensão de Categoria\n",
    "CREATE TABLE IF NOT EXISTS donabaunilha.dcategoria (\n",
    "  id_categoria INT,\n",
    "  nome VARCHAR(50)\n",
    ") USING DELTA LOCATION 'dbfs:/user/hive/warehouse/donabaunilha/dcategoria';"
   ]
  },
  {
   "cell_type": "code",
   "execution_count": 0,
   "metadata": {
    "application/vnd.databricks.v1+cell": {
     "cellMetadata": {
      "byteLimit": 2048000,
      "implicitDf": true,
      "rowLimit": 10000
     },
     "inputWidgets": {},
     "nuid": "43023ad8-3620-4906-bd88-5fc4e05f77f8",
     "showTitle": false,
     "tableResultSettingsMap": {},
     "title": ""
    }
   },
   "outputs": [
    {
     "output_type": "display_data",
     "data": {
      "text/html": [
       "<style scoped>\n",
       "  .table-result-container {\n",
       "    max-height: 300px;\n",
       "    overflow: auto;\n",
       "  }\n",
       "  table, th, td {\n",
       "    border: 1px solid black;\n",
       "    border-collapse: collapse;\n",
       "  }\n",
       "  th, td {\n",
       "    padding: 5px;\n",
       "  }\n",
       "  th {\n",
       "    text-align: left;\n",
       "  }\n",
       "</style><div class='table-result-container'><table class='table-result'><thead style='background-color: white'><tr><th>num_affected_rows</th><th>num_inserted_rows</th></tr></thead><tbody><tr><td>6</td><td>6</td></tr></tbody></table></div>"
      ]
     },
     "metadata": {
      "application/vnd.databricks.v1+output": {
       "addedWidgets": {},
       "aggData": [],
       "aggError": "",
       "aggOverflow": false,
       "aggSchema": [],
       "aggSeriesLimitReached": false,
       "aggType": "",
       "arguments": {},
       "columnCustomDisplayInfos": {},
       "data": [
        [
         6,
         6
        ]
       ],
       "datasetInfos": [],
       "dbfsResultPath": null,
       "isJsonSchema": true,
       "metadata": {
        "createTempViewForImplicitDf": true,
        "dataframeName": "_sqldf",
        "executionCount": 30
       },
       "overflow": false,
       "plotOptions": {
        "customPlotOptions": {},
        "displayType": "table",
        "pivotAggregation": null,
        "pivotColumns": null,
        "xColumns": null,
        "yColumns": null
       },
       "removedWidgets": [],
       "schema": [
        {
         "metadata": "{}",
         "name": "num_affected_rows",
         "type": "\"long\""
        },
        {
         "metadata": "{}",
         "name": "num_inserted_rows",
         "type": "\"long\""
        }
       ],
       "type": "table"
      }
     },
     "output_type": "display_data"
    }
   ],
   "source": [
    "%sql\n",
    "\n",
    "--Inserindo dados na Tabela Dimensão de Categoria\n",
    "\n",
    "INSERT INTO donabaunilha.dcategoria (id_categoria, nome) VALUES\n",
    "(1, 'Bebidas Quentes'),\n",
    "(2, 'Bebidas Geladas'),\n",
    "(3, 'Doces'),\n",
    "(4, 'Salgados'),\n",
    "(5, 'Brunch'),\n",
    "(6, 'Cafés Especiais');"
   ]
  },
  {
   "cell_type": "code",
   "execution_count": 0,
   "metadata": {
    "application/vnd.databricks.v1+cell": {
     "cellMetadata": {
      "byteLimit": 2048000,
      "implicitDf": true,
      "rowLimit": 10000
     },
     "inputWidgets": {},
     "nuid": "2d70469f-6e40-4270-8e8f-3190114d0696",
     "showTitle": false,
     "tableResultSettingsMap": {},
     "title": ""
    }
   },
   "outputs": [
    {
     "output_type": "display_data",
     "data": {
      "text/html": [
       "<style scoped>\n",
       "  .table-result-container {\n",
       "    max-height: 300px;\n",
       "    overflow: auto;\n",
       "  }\n",
       "  table, th, td {\n",
       "    border: 1px solid black;\n",
       "    border-collapse: collapse;\n",
       "  }\n",
       "  th, td {\n",
       "    padding: 5px;\n",
       "  }\n",
       "  th {\n",
       "    text-align: left;\n",
       "  }\n",
       "</style><div class='table-result-container'><table class='table-result'><thead style='background-color: white'><tr></tr></thead><tbody></tbody></table></div>"
      ]
     },
     "metadata": {
      "application/vnd.databricks.v1+output": {
       "addedWidgets": {},
       "aggData": [],
       "aggError": "",
       "aggOverflow": false,
       "aggSchema": [],
       "aggSeriesLimitReached": false,
       "aggType": "",
       "arguments": {},
       "columnCustomDisplayInfos": {},
       "data": [],
       "datasetInfos": [],
       "dbfsResultPath": null,
       "isJsonSchema": true,
       "metadata": {
        "dataframeName": null
       },
       "overflow": false,
       "plotOptions": {
        "customPlotOptions": {},
        "displayType": "table",
        "pivotAggregation": null,
        "pivotColumns": null,
        "xColumns": null,
        "yColumns": null
       },
       "removedWidgets": [],
       "schema": [],
       "type": "table"
      }
     },
     "output_type": "display_data"
    }
   ],
   "source": [
    "%sql\n",
    "\n",
    "-- Criando a Tabela Dimensão de Produto\n",
    "CREATE TABLE IF NOT EXISTS donabaunilha.dproduto (\n",
    "  id_produto INT,\n",
    "  id_categoria INT,\n",
    "  nome VARCHAR(50),\n",
    "  preco_unit FLOAT,\n",
    "  custo_prod FLOAT\n",
    ") USING DELTA LOCATION 'dbfs:/user/hive/warehouse/donabaunilha/dproduto';"
   ]
  },
  {
   "cell_type": "code",
   "execution_count": 0,
   "metadata": {
    "application/vnd.databricks.v1+cell": {
     "cellMetadata": {
      "byteLimit": 2048000,
      "implicitDf": true,
      "rowLimit": 10000
     },
     "inputWidgets": {},
     "nuid": "09107c8d-4317-44c9-8d1f-3e766a09b49f",
     "showTitle": false,
     "tableResultSettingsMap": {},
     "title": ""
    }
   },
   "outputs": [
    {
     "output_type": "display_data",
     "data": {
      "text/html": [
       "<style scoped>\n",
       "  .table-result-container {\n",
       "    max-height: 300px;\n",
       "    overflow: auto;\n",
       "  }\n",
       "  table, th, td {\n",
       "    border: 1px solid black;\n",
       "    border-collapse: collapse;\n",
       "  }\n",
       "  th, td {\n",
       "    padding: 5px;\n",
       "  }\n",
       "  th {\n",
       "    text-align: left;\n",
       "  }\n",
       "</style><div class='table-result-container'><table class='table-result'><thead style='background-color: white'><tr><th>num_affected_rows</th><th>num_inserted_rows</th></tr></thead><tbody><tr><td>50</td><td>50</td></tr></tbody></table></div>"
      ]
     },
     "metadata": {
      "application/vnd.databricks.v1+output": {
       "addedWidgets": {},
       "aggData": [],
       "aggError": "",
       "aggOverflow": false,
       "aggSchema": [],
       "aggSeriesLimitReached": false,
       "aggType": "",
       "arguments": {},
       "columnCustomDisplayInfos": {},
       "data": [
        [
         50,
         50
        ]
       ],
       "datasetInfos": [],
       "dbfsResultPath": null,
       "isJsonSchema": true,
       "metadata": {
        "createTempViewForImplicitDf": true,
        "dataframeName": "_sqldf",
        "executionCount": 31
       },
       "overflow": false,
       "plotOptions": {
        "customPlotOptions": {},
        "displayType": "table",
        "pivotAggregation": null,
        "pivotColumns": null,
        "xColumns": null,
        "yColumns": null
       },
       "removedWidgets": [],
       "schema": [
        {
         "metadata": "{}",
         "name": "num_affected_rows",
         "type": "\"long\""
        },
        {
         "metadata": "{}",
         "name": "num_inserted_rows",
         "type": "\"long\""
        }
       ],
       "type": "table"
      }
     },
     "output_type": "display_data"
    }
   ],
   "source": [
    "%sql\n",
    "\n",
    "--Inserindo dados na Tabela Produto\n",
    "\n",
    "INSERT INTO donabaunilha.dproduto (id_produto, id_categoria, nome, preco_unit, custo_prod) VALUES\n",
    "(1, 3, 'Torta de Limão 1', 109.78, 36.02),\n",
    "(2, 6, 'Pão de Queijo Gourmet 2', 46.37, 19.63),\n",
    "(3, 1, 'Frapuccino Dona Baunilha 3', 57.36, 15.12),\n",
    "(4, 6, 'Frapuccino Dona Baunilha 4', 19.57, 8.93),\n",
    "(5, 4, 'Capuccino Cremoso 5', 21.94, 10.92),\n",
    "(6, 5, 'Bolo Red Velvet 6', 49.91, 19.91),\n",
    "(7, 3, 'Café Geisha Panamá 7', 16.02, 6.97),\n",
    "(8, 6, 'Café Geisha Panamá 8', 91.13, 35.83),\n",
    "(9, 2, 'Pão de Queijo Gourmet 9', 65.92, 29.03),\n",
    "(10, 2, 'Croissant Presunto e Queijo 10', 32.74, 15.45),\n",
    "(11, 6, 'Torta de Limão 11', 82.22, 36.64),\n",
    "(12, 1, 'Capuccino Cremoso 12', 65.31, 14.45),\n",
    "(13, 5, 'Torta de Limão 13', 17.42, 5.36),\n",
    "(14, 3, 'Latte Baunilha 14', 115.89, 48.46),\n",
    "(15, 5, 'Croissant Presunto e Queijo 15', 86.52, 24.92),\n",
    "(16, 2, 'Café Jacu Bird 16', 42.55, 12.74),\n",
    "(17, 6, 'Frapuccino Dona Baunilha 17', 81.87, 23.09),\n",
    "(18, 2, 'Capuccino Cremoso 18', 15.94, 6.64),\n",
    "(19, 5, 'Cookie Gigante 19', 25.74, 9.12),\n",
    "(20, 4, 'Iced Coffee Caramelo 20', 80.59, 38.57),\n",
    "(21, 6, 'Cookie Gigante 21', 77.82, 35.4),\n",
    "(22, 5, 'Torta de Limão 22', 112.26, 43.95),\n",
    "(23, 6, 'Torta de Limão 23', 27.47, 12.17),\n",
    "(24, 5, 'Capuccino Cremoso 24', 47.39, 23.13),\n",
    "(25, 6, 'Cookie Gigante 25', 58.56, 12.69),\n",
    "(26, 4, 'Torta de Limão 26', 64.8, 18.69),\n",
    "(27, 5, 'Café Geisha Panamá 27', 60.38, 16.4),\n",
    "(28, 3, 'Frapuccino Dona Baunilha 28', 117.91, 49.97),\n",
    "(29, 4, 'Frapuccino Dona Baunilha 29', 103.5, 23.97),\n",
    "(30, 3, 'Latte Baunilha 30', 76.39, 36.02),\n",
    "(31, 6, 'Capuccino Cremoso 31', 88.64, 35.04),\n",
    "(32, 3, 'Frapuccino Dona Baunilha 32', 98.73, 21.62),\n",
    "(33, 5, 'Croissant Presunto e Queijo 33', 104.86, 35.14),\n",
    "(34, 3, 'Frapuccino Dona Baunilha 34', 97.08, 41.94),\n",
    "(35, 1, 'Torta de Limão 35', 26.45, 6.83),\n",
    "(36, 2, 'Latte Baunilha 36', 66.3, 27.35),\n",
    "(37, 1, 'Café Expresso 37', 47.08, 22.67),\n",
    "(38, 1, 'Café Expresso 38', 78.62, 31.28),\n",
    "(39, 4, 'Iced Coffee Caramelo 39', 42.1, 16.51),\n",
    "(40, 6, 'Café Geisha Panamá 40', 15.43, 5.54),\n",
    "(41, 4, 'Brunch Dona Baunilha 41', 79.34, 24.39),\n",
    "(42, 5, 'Bolo Red Velvet 42', 26.58, 11.47),\n",
    "(43, 1, 'Pão de Queijo Gourmet 43', 20.08, 6.3),\n",
    "(44, 6, 'Latte Baunilha 44', 112.52, 23.87),\n",
    "(45, 1, 'Café Jacu Bird 45', 70.74, 33.75),\n",
    "(46, 3, 'Capuccino Cremoso 46', 43.16, 13.3),\n",
    "(47, 1, 'Capuccino Cremoso 47', 49.16, 15.77),\n",
    "(48, 5, 'Frapuccino Dona Baunilha 48', 66.12, 22.39),\n",
    "(49, 3, 'Pão de Queijo Gourmet 49', 16.78, 7.05),\n",
    "(50, 3, 'Bolo Red Velvet 50', 82.36, 23.21);"
   ]
  },
  {
   "cell_type": "code",
   "execution_count": 0,
   "metadata": {
    "application/vnd.databricks.v1+cell": {
     "cellMetadata": {
      "byteLimit": 2048000,
      "implicitDf": true,
      "rowLimit": 10000
     },
     "inputWidgets": {},
     "nuid": "3aeded40-46f4-42d1-855e-58f2f692f12a",
     "showTitle": false,
     "tableResultSettingsMap": {},
     "title": ""
    }
   },
   "outputs": [
    {
     "output_type": "display_data",
     "data": {
      "text/html": [
       "<style scoped>\n",
       "  .table-result-container {\n",
       "    max-height: 300px;\n",
       "    overflow: auto;\n",
       "  }\n",
       "  table, th, td {\n",
       "    border: 1px solid black;\n",
       "    border-collapse: collapse;\n",
       "  }\n",
       "  th, td {\n",
       "    padding: 5px;\n",
       "  }\n",
       "  th {\n",
       "    text-align: left;\n",
       "  }\n",
       "</style><div class='table-result-container'><table class='table-result'><thead style='background-color: white'><tr></tr></thead><tbody></tbody></table></div>"
      ]
     },
     "metadata": {
      "application/vnd.databricks.v1+output": {
       "addedWidgets": {},
       "aggData": [],
       "aggError": "",
       "aggOverflow": false,
       "aggSchema": [],
       "aggSeriesLimitReached": false,
       "aggType": "",
       "arguments": {},
       "columnCustomDisplayInfos": {},
       "data": [],
       "datasetInfos": [],
       "dbfsResultPath": null,
       "isJsonSchema": true,
       "metadata": {
        "dataframeName": null
       },
       "overflow": false,
       "plotOptions": {
        "customPlotOptions": {},
        "displayType": "table",
        "pivotAggregation": null,
        "pivotColumns": null,
        "xColumns": null,
        "yColumns": null
       },
       "removedWidgets": [],
       "schema": [],
       "type": "table"
      }
     },
     "output_type": "display_data"
    }
   ],
   "source": [
    "%sql\n",
    "\n",
    "--Criando a Tabela fvendas\n",
    "\n",
    "CREATE TABLE IF NOT EXISTS donabaunilha.fvendas (\n",
    "  id_venda INT,\n",
    "  id_cliente INT,\n",
    "  id_bu INT,\n",
    "  valor_total DECIMAL(10,2),\n",
    "  desconto DECIMAL(10,2),\n",
    "  status VARCHAR(20),\n",
    "  data_venda TIMESTAMP\n",
    ") USING DELTA \n",
    "LOCATION 'dbfs:/user/hive/warehouse/donabaunilha/fvendas';\n"
   ]
  },
  {
   "cell_type": "code",
   "execution_count": 0,
   "metadata": {
    "application/vnd.databricks.v1+cell": {
     "cellMetadata": {
      "byteLimit": 2048000,
      "implicitDf": true,
      "rowLimit": 10000
     },
     "inputWidgets": {},
     "nuid": "23480973-3044-4f00-a0d8-fb391cfc666b",
     "showTitle": false,
     "tableResultSettingsMap": {},
     "title": ""
    }
   },
   "outputs": [
    {
     "output_type": "display_data",
     "data": {
      "text/html": [
       "<style scoped>\n",
       "  .table-result-container {\n",
       "    max-height: 300px;\n",
       "    overflow: auto;\n",
       "  }\n",
       "  table, th, td {\n",
       "    border: 1px solid black;\n",
       "    border-collapse: collapse;\n",
       "  }\n",
       "  th, td {\n",
       "    padding: 5px;\n",
       "  }\n",
       "  th {\n",
       "    text-align: left;\n",
       "  }\n",
       "</style><div class='table-result-container'><table class='table-result'><thead style='background-color: white'><tr><th>num_affected_rows</th><th>num_inserted_rows</th></tr></thead><tbody><tr><td>300</td><td>300</td></tr></tbody></table></div>"
      ]
     },
     "metadata": {
      "application/vnd.databricks.v1+output": {
       "addedWidgets": {},
       "aggData": [],
       "aggError": "",
       "aggOverflow": false,
       "aggSchema": [],
       "aggSeriesLimitReached": false,
       "aggType": "",
       "arguments": {},
       "columnCustomDisplayInfos": {},
       "data": [
        [
         300,
         300
        ]
       ],
       "datasetInfos": [],
       "dbfsResultPath": null,
       "isJsonSchema": true,
       "metadata": {
        "createTempViewForImplicitDf": true,
        "dataframeName": "_sqldf",
        "executionCount": 32
       },
       "overflow": false,
       "plotOptions": {
        "customPlotOptions": {},
        "displayType": "table",
        "pivotAggregation": null,
        "pivotColumns": null,
        "xColumns": null,
        "yColumns": null
       },
       "removedWidgets": [],
       "schema": [
        {
         "metadata": "{}",
         "name": "num_affected_rows",
         "type": "\"long\""
        },
        {
         "metadata": "{}",
         "name": "num_inserted_rows",
         "type": "\"long\""
        }
       ],
       "type": "table"
      }
     },
     "output_type": "display_data"
    }
   ],
   "source": [
    "%sql\n",
    "\n",
    "--Inserindo dados na tabela fvendas\n",
    "\n",
    "INSERT INTO donabaunilha.fvendas (id_venda, id_cliente, id_bu, valor_total, desconto, status, data_venda) VALUES\n",
    "(1, 47, 3, 428.71, 43.84, 'Pendente', '2024-05-16 22:17:38'),\n",
    "(2, 15, 2, 320.07, 49.1, 'Cancelada', '2024-05-12 09:31:53'),\n",
    "(3, 15, 2, 203.34, 24.11, 'Pendente', '2024-05-06 00:40:24'),\n",
    "(4, 26, 2, 458.82, 37.14, 'Concluída', '2024-05-26 18:24:19'),\n",
    "(5, 8, 3, 81.95, 30.45, 'Pendente', '2024-05-09 08:07:34'),\n",
    "(6, 30, 3, 119.73, 46.84, 'Cancelada', '2024-05-08 15:15:06'),\n",
    "(7, 3, 2, 401.05, 2.05, 'Concluída', '2024-05-24 01:37:24'),\n",
    "(8, 42, 1, 408.01, 9.0, 'Pendente', '2024-05-18 21:23:04'),\n",
    "(9, 31, 2, 38.57, 46.09, 'Cancelada', '2024-05-07 19:35:51'),\n",
    "(10, 24, 2, 281.3, 9.05, 'Concluída', '2024-05-14 21:29:55'),\n",
    "(11, 14, 3, 61.62, 0.63, 'Concluída', '2024-05-05 03:31:25'),\n",
    "(12, 12, 3, 244.65, 40.92, 'Concluída', '2024-05-09 18:47:17'),\n",
    "(13, 25, 2, 353.37, 4.0, 'Cancelada', '2024-05-28 06:54:33'),\n",
    "(14, 21, 1, 127.57, 13.87, 'Cancelada', '2024-05-29 04:22:30'),\n",
    "(15, 20, 2, 220.56, 41.67, 'Cancelada', '2024-05-28 16:16:25'),\n",
    "(16, 43, 1, 334.31, 3.15, 'Concluída', '2024-05-19 13:48:13'),\n",
    "(17, 34, 1, 219.56, 4.05, 'Cancelada', '2024-05-26 13:26:57'),\n",
    "(18, 24, 1, 134.46, 3.82, 'Concluída', '2024-05-11 17:47:17'),\n",
    "(19, 36, 1, 267.19, 18.37, 'Cancelada', '2024-05-31 09:02:06'),\n",
    "(20, 46, 3, 286.6, 40.27, 'Cancelada', '2024-05-25 16:26:03'),\n",
    "(21, 21, 2, 440.65, 47.05, 'Cancelada', '2024-05-25 07:56:11'),\n",
    "(22, 41, 3, 180.79, 5.57, 'Concluída', '2024-05-15 03:33:57'),\n",
    "(23, 41, 1, 469.73, 13.78, 'Cancelada', '2024-05-31 14:57:06'),\n",
    "(24, 4, 1, 95.19, 24.48, 'Cancelada', '2024-05-01 07:17:07'),\n",
    "(25, 33, 1, 225.24, 5.7, 'Cancelada', '2024-05-03 10:04:27'),\n",
    "(26, 40, 3, 120.45, 29.86, 'Pendente', '2024-05-07 03:31:45'),\n",
    "(27, 25, 2, 65.29, 15.97, 'Pendente', '2024-05-18 12:05:45'),\n",
    "(28, 5, 2, 328.2, 36.87, 'Cancelada', '2024-05-10 13:00:30'),\n",
    "(29, 43, 2, 98.49, 44.01, 'Concluída', '2024-05-29 23:00:14'),\n",
    "(30, 41, 1, 139.88, 19.67, 'Concluída', '2024-05-19 16:03:24'),\n",
    "(31, 45, 3, 169.25, 49.96, 'Pendente', '2024-05-29 17:18:15'),\n",
    "(32, 2, 1, 402.25, 8.49, 'Concluída', '2024-05-20 16:28:46'),\n",
    "(33, 11, 3, 167.9, 38.95, 'Concluída', '2024-05-04 23:33:03'),\n",
    "(34, 45, 3, 82.68, 3.63, 'Cancelada', '2024-05-12 05:23:13'),\n",
    "(35, 1, 2, 411.22, 2.46, 'Cancelada', '2024-05-24 21:01:52'),\n",
    "(36, 16, 1, 385.86, 26.61, 'Pendente', '2024-05-17 20:13:19'),\n",
    "(37, 7, 2, 499.4, 14.01, 'Concluída', '2024-05-13 22:55:55'),\n",
    "(38, 3, 1, 412.1, 19.95, 'Concluída', '2024-05-23 11:32:55'),\n",
    "(39, 36, 3, 194.43, 13.3, 'Concluída', '2024-05-15 16:52:10'),\n",
    "(40, 45, 3, 357.87, 39.46, 'Concluída', '2024-05-22 00:08:39'),\n",
    "(41, 49, 3, 280.33, 40.42, 'Cancelada', '2024-05-26 13:27:46'),\n",
    "(42, 14, 2, 307.44, 36.82, 'Concluída', '2024-05-01 13:42:44'),\n",
    "(43, 2, 2, 94.72, 33.37, 'Pendente', '2024-05-12 08:08:26'),\n",
    "(44, 33, 2, 97.77, 42.77, 'Cancelada', '2024-05-12 06:04:18'),\n",
    "(45, 23, 3, 230.97, 18.77, 'Concluída', '2024-05-05 00:30:09'),\n",
    "(46, 50, 2, 39.24, 38.19, 'Cancelada', '2024-05-27 16:45:59'),\n",
    "(47, 14, 1, 418.71, 37.59, 'Cancelada', '2024-05-25 18:26:11'),\n",
    "(48, 45, 1, 356.22, 31.92, 'Cancelada', '2024-05-15 18:10:11'),\n",
    "(49, 9, 1, 99.56, 42.07, 'Concluída', '2024-05-11 02:52:30'),\n",
    "(50, 14, 3, 223.67, 48.65, 'Concluída', '2024-05-11 17:28:34'),\n",
    "(51, 28, 2, 490.19, 15.75, 'Concluída', '2024-05-24 16:07:16'),\n",
    "(52, 12, 2, 274.3, 36.01, 'Concluída', '2024-05-02 04:47:21'),\n",
    "(53, 16, 2, 103.0, 40.89, 'Pendente', '2024-05-05 22:50:20'),\n",
    "(54, 28, 2, 129.73, 35.13, 'Pendente', '2024-05-07 23:41:40'),\n",
    "(55, 22, 3, 271.04, 33.64, 'Pendente', '2024-05-03 06:38:09'),\n",
    "(56, 5, 1, 411.91, 14.58, 'Concluída', '2024-05-10 22:52:19'),\n",
    "(57, 17, 3, 119.75, 40.9, 'Pendente', '2024-05-04 17:27:59'),\n",
    "(58, 11, 2, 81.21, 8.41, 'Pendente', '2024-05-22 13:08:00'),\n",
    "(59, 15, 3, 433.9, 5.99, 'Cancelada', '2024-05-11 23:34:11'),\n",
    "(60, 45, 3, 252.88, 9.88, 'Pendente', '2024-05-31 13:24:34'),\n",
    "(61, 23, 2, 386.62, 5.28, 'Cancelada', '2024-05-19 05:28:47'),\n",
    "(62, 32, 2, 183.78, 16.21, 'Cancelada', '2024-05-01 15:28:05'),\n",
    "(63, 6, 1, 363.69, 38.13, 'Pendente', '2024-05-20 04:11:44'),\n",
    "(64, 32, 1, 244.1, 41.59, 'Concluída', '2024-05-06 12:05:12'),\n",
    "(65, 24, 1, 367.11, 2.76, 'Pendente', '2024-05-30 20:25:20'),\n",
    "(66, 21, 3, 217.54, 3.97, 'Pendente', '2024-05-05 20:09:35'),\n",
    "(67, 13, 1, 368.14, 42.26, 'Concluída', '2024-05-23 00:07:19'),\n",
    "(68, 18, 1, 229.48, 9.26, 'Cancelada', '2024-05-17 05:00:35'),\n",
    "(69, 38, 1, 168.4, 40.45, 'Cancelada', '2024-05-13 00:46:50'),\n",
    "(70, 15, 3, 207.51, 14.02, 'Cancelada', '2024-05-21 19:21:25'),\n",
    "(71, 14, 3, 461.15, 48.77, 'Cancelada', '2024-05-05 00:00:35'),\n",
    "(72, 44, 2, 41.31, 20.86, 'Pendente', '2024-05-08 23:42:30'),\n",
    "(73, 20, 3, 284.02, 18.28, 'Pendente', '2024-05-03 05:03:26'),\n",
    "(74, 8, 2, 58.04, 40.18, 'Pendente', '2024-05-26 05:10:02'),\n",
    "(75, 30, 1, 264.09, 36.61, 'Pendente', '2024-05-14 14:55:54'),\n",
    "(76, 41, 2, 343.69, 11.32, 'Cancelada', '2024-05-08 22:54:27'),\n",
    "(77, 30, 1, 412.19, 15.85, 'Concluída', '2024-05-05 01:10:21'),\n",
    "(78, 25, 3, 206.86, 39.49, 'Pendente', '2024-05-22 18:45:23'),\n",
    "(79, 3, 2, 229.86, 46.72, 'Pendente', '2024-05-07 00:46:53'),\n",
    "(80, 24, 1, 385.13, 20.35, 'Pendente', '2024-05-24 20:19:20'),\n",
    "(81, 14, 1, 63.72, 12.3, 'Cancelada', '2024-05-27 14:00:56'),\n",
    "(82, 43, 2, 484.45, 23.63, 'Pendente', '2024-05-23 20:01:37'),\n",
    "(83, 34, 2, 249.86, 23.42, 'Concluída', '2024-05-07 01:06:24'),\n",
    "(84, 47, 1, 137.04, 30.93, 'Pendente', '2024-05-28 23:49:46'),\n",
    "(85, 15, 2, 334.22, 49.79, 'Pendente', '2024-05-15 01:13:34'),\n",
    "(86, 11, 1, 407.14, 16.04, 'Pendente', '2024-05-04 16:09:53'),\n",
    "(87, 18, 2, 336.75, 3.82, 'Pendente', '2024-05-21 16:46:42'),\n",
    "(88, 46, 1, 433.57, 11.76, 'Concluída', '2024-05-17 13:46:43'),\n",
    "(89, 22, 3, 253.65, 8.1, 'Cancelada', '2024-05-29 02:07:55'),\n",
    "(90, 26, 2, 323.88, 44.74, 'Cancelada', '2024-05-17 00:49:53'),\n",
    "(91, 46, 1, 125.29, 19.78, 'Pendente', '2024-05-13 22:40:32'),\n",
    "(92, 6, 2, 447.2, 18.73, 'Pendente', '2024-05-16 12:31:21'),\n",
    "(93, 17, 2, 433.42, 5.61, 'Concluída', '2024-05-23 03:12:17'),\n",
    "(94, 37, 1, 121.52, 19.03, 'Cancelada', '2024-05-28 12:31:52'),\n",
    "(95, 4, 1, 238.3, 29.21, 'Concluída', '2024-05-19 17:57:27'),\n",
    "(96, 2, 2, 396.0, 32.58, 'Concluída', '2024-05-01 22:26:07'),\n",
    "(97, 22, 1, 389.53, 40.61, 'Cancelada', '2024-05-27 20:32:21'),\n",
    "(98, 49, 3, 107.56, 22.36, 'Pendente', '2024-05-05 10:56:26'),\n",
    "(99, 36, 3, 341.45, 3.87, 'Pendente', '2024-05-08 04:51:09'),\n",
    "(100, 50, 1, 452.15, 30.28, 'Concluída', '2024-05-07 07:06:40'),\n",
    "(101, 5, 2, 487.58, 0.47, 'Cancelada', '2024-05-29 16:20:14'),\n",
    "(102, 44, 3, 285.05, 11.97, 'Concluída', '2024-05-04 10:06:13'),\n",
    "(103, 24, 1, 153.25, 26.78, 'Cancelada', '2024-05-05 03:29:01'),\n",
    "(104, 27, 2, 390.25, 18.5, 'Pendente', '2024-05-17 17:14:36'),\n",
    "(105, 21, 3, 48.28, 5.98, 'Concluída', '2024-05-27 22:54:03'),\n",
    "(106, 27, 2, 392.15, 27.47, 'Cancelada', '2024-05-09 01:02:08'),\n",
    "(107, 46, 3, 135.03, 44.68, 'Concluída', '2024-05-19 04:53:09'),\n",
    "(108, 40, 3, 284.15, 21.59, 'Cancelada', '2024-05-23 17:45:07'),\n",
    "(109, 2, 3, 281.93, 10.34, 'Concluída', '2024-05-09 23:37:08'),\n",
    "(110, 19, 3, 365.81, 34.11, 'Pendente', '2024-05-07 21:52:48'),\n",
    "(111, 50, 2, 39.9, 4.48, 'Cancelada', '2024-05-04 23:35:15'),\n",
    "(112, 3, 3, 161.4, 49.47, 'Concluída', '2024-05-25 17:00:49'),\n",
    "(113, 49, 3, 299.16, 43.24, 'Cancelada', '2024-05-01 21:02:49'),\n",
    "(114, 37, 2, 294.21, 19.92, 'Pendente', '2024-05-29 11:08:49'),\n",
    "(115, 1, 1, 148.63, 2.77, 'Cancelada', '2024-05-19 15:46:25'),\n",
    "(116, 5, 1, 157.49, 40.98, 'Concluída', '2024-05-10 21:52:43'),\n",
    "(117, 3, 2, 363.36, 5.41, 'Cancelada', '2024-05-23 12:33:39'),\n",
    "(118, 50, 1, 409.62, 24.49, 'Cancelada', '2024-05-31 12:44:51'),\n",
    "(119, 45, 1, 229.72, 22.33, 'Cancelada', '2024-05-09 08:35:26'),\n",
    "(120, 15, 3, 113.65, 29.03, 'Concluída', '2024-05-16 07:46:15'),\n",
    "(121, 40, 2, 225.43, 43.7, 'Concluída', '2024-05-18 13:00:41'),\n",
    "(122, 7, 3, 276.08, 31.0, 'Concluída', '2024-05-14 20:04:58'),\n",
    "(123, 37, 1, 205.47, 33.79, 'Pendente', '2024-05-14 20:08:58'),\n",
    "(124, 45, 2, 87.05, 18.93, 'Concluída', '2024-05-15 04:35:59'),\n",
    "(125, 38, 2, 219.12, 28.02, 'Pendente', '2024-05-19 08:38:34'),\n",
    "(126, 15, 2, 221.11, 45.97, 'Pendente', '2024-05-30 17:09:23'),\n",
    "(127, 25, 1, 346.79, 8.07, 'Pendente', '2024-05-08 09:51:58'),\n",
    "(128, 46, 3, 150.09, 8.18, 'Concluída', '2024-05-19 15:05:26'),\n",
    "(129, 3, 1, 437.11, 42.24, 'Cancelada', '2024-05-01 20:28:03'),\n",
    "(130, 37, 2, 258.22, 21.85, 'Pendente', '2024-05-01 21:28:29'),\n",
    "(131, 37, 1, 192.45, 30.89, 'Concluída', '2024-05-12 00:26:28'),\n",
    "(132, 31, 3, 423.54, 46.34, 'Cancelada', '2024-05-07 18:25:21'),\n",
    "(133, 24, 2, 204.76, 9.08, 'Pendente', '2024-05-17 20:43:38'),\n",
    "(134, 21, 3, 491.48, 21.09, 'Cancelada', '2024-05-04 09:37:59'),\n",
    "(135, 19, 1, 318.38, 31.32, 'Cancelada', '2024-05-13 09:31:25'),\n",
    "(136, 6, 3, 412.24, 43.98, 'Concluída', '2024-05-28 18:23:48'),\n",
    "(137, 47, 2, 83.55, 31.13, 'Cancelada', '2024-05-17 05:51:25'),\n",
    "(138, 7, 3, 73.64, 18.6, 'Concluída', '2024-05-19 03:05:42'),\n",
    "(139, 26, 3, 123.58, 19.59, 'Cancelada', '2024-05-23 16:41:58'),\n",
    "(140, 26, 2, 459.51, 0.08, 'Pendente', '2024-05-11 09:37:08'),\n",
    "(141, 14, 3, 303.91, 35.15, 'Pendente', '2024-05-09 12:14:40'),\n",
    "(142, 22, 1, 346.86, 7.81, 'Pendente', '2024-05-10 19:39:19'),\n",
    "(143, 30, 3, 90.95, 46.01, 'Concluída', '2024-05-09 23:38:47'),\n",
    "(144, 33, 1, 405.01, 19.41, 'Pendente', '2024-05-25 00:32:51'),\n",
    "(145, 12, 3, 487.39, 13.92, 'Cancelada', '2024-05-05 22:11:19'),\n",
    "(146, 3, 1, 425.94, 42.13, 'Concluída', '2024-05-15 12:04:16'),\n",
    "(147, 50, 3, 404.25, 33.09, 'Cancelada', '2024-05-15 18:41:36'),\n",
    "(148, 35, 2, 386.67, 1.44, 'Cancelada', '2024-05-30 07:26:20'),\n",
    "(149, 37, 3, 267.94, 17.19, 'Cancelada', '2024-05-23 21:33:50'),\n",
    "(150, 14, 2, 79.43, 21.56, 'Cancelada', '2024-05-16 11:11:40'),\n",
    "(151, 14, 2, 286.83, 14.73, 'Cancelada', '2024-05-04 13:33:54'),\n",
    "(152, 42, 3, 443.49, 18.6, 'Concluída', '2024-05-11 10:08:29'),\n",
    "(153, 45, 3, 96.5, 10.35, 'Cancelada', '2024-05-23 01:06:02'),\n",
    "(154, 23, 1, 484.47, 49.34, 'Pendente', '2024-05-08 16:21:58'),\n",
    "(155, 40, 2, 102.57, 1.38, 'Cancelada', '2024-05-01 09:46:00'),\n",
    "(156, 16, 1, 328.93, 28.41, 'Concluída', '2024-05-12 21:33:21'),\n",
    "(157, 24, 2, 285.16, 15.62, 'Concluída', '2024-05-15 11:27:13'),\n",
    "(158, 13, 3, 47.64, 34.98, 'Cancelada', '2024-05-09 22:39:28'),\n",
    "(159, 42, 1, 347.04, 21.71, 'Cancelada', '2024-05-30 23:58:03'),\n",
    "(160, 8, 2, 347.7, 0.47, 'Cancelada', '2024-05-30 04:36:54'),\n",
    "(161, 33, 1, 261.51, 47.46, 'Concluída', '2024-05-21 23:13:24'),\n",
    "(162, 36, 2, 491.25, 20.53, 'Concluída', '2024-05-28 14:48:20'),\n",
    "(163, 11, 1, 288.64, 14.36, 'Concluída', '2024-05-25 02:29:37'),\n",
    "(164, 39, 3, 325.53, 19.24, 'Cancelada', '2024-05-19 03:34:11'),\n",
    "(165, 12, 3, 186.03, 42.4, 'Concluída', '2024-05-07 02:58:18'),\n",
    "(166, 13, 1, 389.72, 36.68, 'Cancelada', '2024-05-25 22:53:34'),\n",
    "(167, 1, 1, 452.48, 9.25, 'Concluída', '2024-05-09 04:08:19'),\n",
    "(168, 38, 2, 387.59, 41.27, 'Pendente', '2024-05-12 12:23:04'),\n",
    "(169, 26, 2, 432.32, 34.81, 'Cancelada', '2024-05-11 02:27:14'),\n",
    "(170, 42, 3, 60.11, 37.89, 'Pendente', '2024-05-02 09:33:32'),\n",
    "(171, 25, 3, 239.44, 14.3, 'Concluída', '2024-05-16 18:16:58'),\n",
    "(172, 19, 1, 456.94, 15.08, 'Concluída', '2024-05-12 14:28:11'),\n",
    "(173, 47, 1, 238.33, 26.85, 'Cancelada', '2024-05-13 03:51:06'),\n",
    "(174, 11, 1, 185.03, 35.45, 'Concluída', '2024-05-12 07:02:29'),\n",
    "(175, 22, 3, 307.9, 14.79, 'Cancelada', '2024-05-11 15:44:01'),\n",
    "(176, 11, 2, 496.39, 5.51, 'Concluída', '2024-05-18 21:06:24'),\n",
    "(177, 43, 1, 382.12, 22.98, 'Concluída', '2024-05-24 21:15:33'),\n",
    "(178, 34, 2, 498.6, 2.45, 'Pendente', '2024-05-24 07:57:39'),\n",
    "(179, 6, 2, 304.0, 25.5, 'Cancelada', '2024-05-31 04:08:40'),\n",
    "(180, 2, 2, 44.76, 7.62, 'Cancelada', '2024-05-30 02:52:48'),\n",
    "(181, 15, 2, 273.33, 10.46, 'Pendente', '2024-05-20 16:27:28'),\n",
    "(182, 40, 2, 200.5, 47.17, 'Pendente', '2024-05-13 12:26:08'),\n",
    "(183, 37, 2, 61.83, 25.08, 'Pendente', '2024-05-18 18:21:48'),\n",
    "(184, 21, 3, 423.06, 32.11, 'Cancelada', '2024-05-18 01:13:16'),\n",
    "(185, 36, 1, 218.71, 19.78, 'Cancelada', '2024-05-01 13:22:10'),\n",
    "(186, 38, 1, 472.04, 13.55, 'Pendente', '2024-05-10 08:31:31'),\n",
    "(187, 36, 1, 33.21, 47.5, 'Cancelada', '2024-05-30 21:09:08'),\n",
    "(188, 6, 2, 379.98, 19.49, 'Pendente', '2024-05-23 23:57:05'),\n",
    "(189, 40, 3, 364.77, 3.08, 'Concluída', '2024-05-14 17:37:32'),\n",
    "(190, 45, 3, 400.96, 32.73, 'Concluída', '2024-05-29 05:30:18'),\n",
    "(191, 4, 1, 183.57, 46.22, 'Concluída', '2024-05-24 02:55:40'),\n",
    "(192, 18, 3, 424.33, 36.48, 'Pendente', '2024-05-05 18:30:37'),\n",
    "(193, 14, 3, 277.84, 18.05, 'Pendente', '2024-05-16 15:47:57'),\n",
    "(194, 5, 1, 247.58, 16.03, 'Pendente', '2024-05-15 22:48:48'),\n",
    "(195, 22, 2, 110.22, 35.69, 'Pendente', '2024-05-22 09:28:40'),\n",
    "(196, 36, 2, 130.71, 9.83, 'Concluída', '2024-05-07 12:12:34'),\n",
    "(197, 24, 1, 163.02, 12.48, 'Cancelada', '2024-05-03 14:08:46'),\n",
    "(198, 46, 2, 98.28, 12.15, 'Pendente', '2024-05-02 21:25:40'),\n",
    "(199, 41, 3, 234.05, 34.41, 'Pendente', '2024-05-31 18:22:13'),\n",
    "(200, 12, 1, 153.47, 7.8, 'Concluída', '2024-05-24 17:13:49'),\n",
    "(201, 17, 2, 41.53, 43.13, 'Cancelada', '2024-05-15 09:53:08'),\n",
    "(202, 46, 1, 181.94, 49.07, 'Concluída', '2024-05-02 01:14:07'),\n",
    "(203, 35, 3, 132.51, 28.2, 'Pendente', '2024-05-08 14:44:08'),\n",
    "(204, 34, 2, 192.08, 48.91, 'Pendente', '2024-05-12 03:50:26'),\n",
    "(205, 17, 1, 241.46, 23.48, 'Cancelada', '2024-05-02 17:39:52'),\n",
    "(206, 15, 3, 154.54, 23.93, 'Cancelada', '2024-05-24 05:21:09'),\n",
    "(207, 17, 3, 212.7, 32.82, 'Pendente', '2024-05-07 20:09:31'),\n",
    "(208, 15, 2, 422.86, 12.93, 'Pendente', '2024-05-15 06:13:42'),\n",
    "(209, 10, 2, 441.82, 15.04, 'Pendente', '2024-05-27 16:25:13'),\n",
    "(210, 39, 1, 211.04, 46.61, 'Concluída', '2024-05-31 23:20:09'),\n",
    "(211, 50, 3, 439.53, 43.69, 'Concluída', '2024-05-25 20:29:16'),\n",
    "(212, 31, 3, 355.1, 31.92, 'Concluída', '2024-05-08 16:46:20'),\n",
    "(213, 23, 1, 116.37, 11.8, 'Concluída', '2024-05-22 18:37:45'),\n",
    "(214, 22, 2, 194.37, 4.17, 'Cancelada', '2024-05-02 03:52:46'),\n",
    "(215, 38, 1, 377.76, 15.43, 'Cancelada', '2024-05-19 21:09:30'),\n",
    "(216, 43, 1, 293.15, 40.28, 'Concluída', '2024-05-11 23:05:11'),\n",
    "(217, 15, 1, 293.62, 36.68, 'Concluída', '2024-05-24 07:02:13'),\n",
    "(218, 6, 3, 423.43, 49.47, 'Concluída', '2024-05-16 02:53:49'),\n",
    "(219, 11, 3, 330.84, 1.42, 'Concluída', '2024-05-22 14:10:41'),\n",
    "(220, 30, 2, 404.08, 46.32, 'Concluída', '2024-05-21 10:58:49'),\n",
    "(221, 41, 2, 163.81, 35.5, 'Concluída', '2024-05-25 07:25:00'),\n",
    "(222, 19, 1, 314.37, 45.29, 'Concluída', '2024-05-27 11:32:37'),\n",
    "(223, 41, 1, 420.43, 13.21, 'Cancelada', '2024-05-28 10:12:30'),\n",
    "(224, 9, 2, 448.74, 36.24, 'Concluída', '2024-05-28 02:45:26'),\n",
    "(225, 39, 2, 445.38, 30.69, 'Concluída', '2024-05-18 12:08:02'),\n",
    "(226, 14, 2, 499.44, 36.56, 'Pendente', '2024-05-15 01:04:41'),\n",
    "(227, 37, 3, 268.97, 21.5, 'Cancelada', '2024-05-03 21:14:15'),\n",
    "(228, 13, 3, 439.14, 31.2, 'Concluída', '2024-05-18 22:26:26'),\n",
    "(229, 21, 2, 301.75, 2.5, 'Pendente', '2024-05-21 05:55:15'),\n",
    "(230, 46, 3, 471.06, 12.84, 'Concluída', '2024-05-21 08:11:47'),\n",
    "(231, 20, 2, 89.35, 12.26, 'Concluída', '2024-05-28 00:47:11'),\n",
    "(232, 37, 1, 416.22, 34.08, 'Concluída', '2024-05-20 16:57:14'),\n",
    "(233, 39, 1, 439.26, 31.62, 'Pendente', '2024-05-05 23:27:03'),\n",
    "(234, 48, 1, 408.6, 22.65, 'Cancelada', '2024-05-12 02:43:57'),\n",
    "(235, 50, 3, 190.02, 16.91, 'Cancelada', '2024-05-05 08:41:04'),\n",
    "(236, 32, 1, 239.03, 41.22, 'Pendente', '2024-05-25 11:32:11'),\n",
    "(237, 18, 2, 361.75, 36.54, 'Cancelada', '2024-05-19 12:22:24'),\n",
    "(238, 18, 1, 410.98, 10.04, 'Cancelada', '2024-05-06 17:57:55'),\n",
    "(239, 47, 3, 488.83, 34.89, 'Pendente', '2024-05-20 22:40:09'),\n",
    "(240, 5, 1, 281.62, 29.08, 'Pendente', '2024-05-22 18:58:17'),\n",
    "(241, 33, 3, 389.57, 43.57, 'Concluída', '2024-05-19 09:23:23'),\n",
    "(242, 35, 1, 259.94, 20.15, 'Pendente', '2024-05-07 07:37:26'),\n",
    "(243, 47, 1, 302.53, 19.49, 'Cancelada', '2024-05-31 07:26:49'),\n",
    "(244, 37, 3, 313.26, 35.75, 'Cancelada', '2024-05-22 09:27:36'),\n",
    "(245, 24, 1, 423.02, 19.88, 'Cancelada', '2024-05-28 08:37:07'),\n",
    "(246, 50, 2, 111.0, 30.32, 'Concluída', '2024-05-27 00:51:51'),\n",
    "(247, 6, 3, 151.04, 28.03, 'Concluída', '2024-05-13 20:39:21'),\n",
    "(248, 21, 2, 268.16, 33.35, 'Concluída', '2024-05-01 03:21:39'),\n",
    "(249, 12, 2, 375.39, 37.87, 'Cancelada', '2024-05-27 12:52:16'),\n",
    "(250, 46, 2, 399.18, 33.99, 'Cancelada', '2024-05-23 02:59:27'),\n",
    "(251, 5, 3, 189.06, 48.34, 'Pendente', '2024-05-24 18:37:30'),\n",
    "(252, 4, 3, 342.78, 8.23, 'Cancelada', '2024-05-26 10:57:23'),\n",
    "(253, 13, 2, 379.6, 15.96, 'Pendente', '2024-05-24 21:10:24'),\n",
    "(254, 44, 1, 427.64, 11.2, 'Cancelada', '2024-05-22 19:51:04'),\n",
    "(255, 11, 1, 482.2, 47.95, 'Concluída', '2024-05-21 04:13:58'),\n",
    "(256, 13, 2, 400.86, 44.17, 'Pendente', '2024-05-19 15:49:35'),\n",
    "(257, 7, 1, 256.28, 5.19, 'Cancelada', '2024-05-01 22:06:23'),\n",
    "(258, 28, 1, 127.94, 0.34, 'Pendente', '2024-05-23 17:58:26'),\n",
    "(259, 47, 3, 340.5, 6.86, 'Pendente', '2024-05-07 21:53:02'),\n",
    "(260, 21, 2, 153.9, 36.58, 'Cancelada', '2024-05-04 09:47:41'),\n",
    "(261, 9, 3, 425.8, 11.77, 'Concluída', '2024-05-28 19:08:19'),\n",
    "(262, 25, 2, 62.3, 30.09, 'Pendente', '2024-05-13 09:04:13'),\n",
    "(263, 17, 1, 361.43, 37.88, 'Concluída', '2024-05-28 03:38:01'),\n",
    "(264, 2, 3, 404.46, 48.76, 'Pendente', '2024-05-06 19:09:37'),\n",
    "(265, 4, 3, 218.25, 29.78, 'Cancelada', '2024-05-31 19:36:56'),\n",
    "(266, 36, 2, 377.46, 26.68, 'Concluída', '2024-05-17 19:05:51'),\n",
    "(267, 2, 3, 202.77, 37.25, 'Concluída', '2024-05-29 23:44:47'),\n",
    "(268, 17, 1, 412.64, 12.3, 'Pendente', '2024-05-19 19:58:20'),\n",
    "(269, 39, 1, 441.28, 44.21, 'Concluída', '2024-05-17 01:04:16'),\n",
    "(270, 27, 1, 371.07, 6.86, 'Pendente', '2024-05-07 20:33:33'),\n",
    "(271, 30, 2, 120.3, 34.24, 'Pendente', '2024-05-31 02:18:14'),\n",
    "(272, 44, 3, 130.24, 31.69, 'Concluída', '2024-05-28 12:14:55'),\n",
    "(273, 26, 2, 234.84, 23.47, 'Cancelada', '2024-05-20 02:07:18'),\n",
    "(274, 4, 2, 169.36, 25.6, 'Concluída', '2024-05-28 03:11:35'),\n",
    "(275, 45, 1, 57.41, 3.04, 'Pendente', '2024-05-12 18:26:58'),\n",
    "(276, 17, 1, 472.46, 38.76, 'Cancelada', '2024-05-27 05:33:25'),\n",
    "(277, 17, 3, 444.6, 0.06, 'Pendente', '2024-05-29 04:02:40'),\n",
    "(278, 13, 1, 164.58, 2.03, 'Pendente', '2024-05-31 05:42:25'),\n",
    "(279, 3, 2, 80.42, 18.8, 'Concluída', '2024-05-25 06:10:14'),\n",
    "(280, 11, 1, 401.57, 23.47, 'Cancelada', '2024-05-17 18:32:57'),\n",
    "(281, 2, 3, 100.23, 43.83, 'Concluída', '2024-05-15 04:04:01'),\n",
    "(282, 48, 2, 358.22, 1.51, 'Concluída', '2024-05-02 09:06:04'),\n",
    "(283, 40, 1, 51.16, 9.76, 'Cancelada', '2024-05-22 15:03:08'),\n",
    "(284, 35, 3, 37.94, 2.06, 'Cancelada', '2024-05-23 00:22:36'),\n",
    "(285, 19, 1, 330.84, 40.18, 'Pendente', '2024-05-04 12:33:30'),\n",
    "(286, 13, 1, 453.47, 21.89, 'Concluída', '2024-05-28 00:10:43'),\n",
    "(287, 23, 3, 129.45, 46.88, 'Pendente', '2024-05-31 20:36:08'),\n",
    "(288, 33, 1, 447.41, 44.9, 'Cancelada', '2024-05-01 06:30:50'),\n",
    "(289, 41, 3, 88.84, 11.5, 'Pendente', '2024-05-21 16:24:52'),\n",
    "(290, 4, 3, 39.43, 15.81, 'Pendente', '2024-05-02 19:57:39'),\n",
    "(291, 16, 3, 355.48, 21.76, 'Cancelada', '2024-05-19 22:16:43'),\n",
    "(292, 44, 1, 174.72, 48.6, 'Pendente', '2024-05-11 19:00:33'),\n",
    "(293, 33, 2, 302.22, 32.16, 'Pendente', '2024-05-01 01:17:41'),\n",
    "(294, 7, 1, 441.57, 38.62, 'Cancelada', '2024-05-23 02:02:13'),\n",
    "(295, 6, 1, 292.12, 20.48, 'Pendente', '2024-05-25 11:11:56'),\n",
    "(296, 10, 3, 144.38, 6.85, 'Pendente', '2024-05-08 03:17:39'),\n",
    "(297, 6, 3, 436.02, 2.27, 'Concluída', '2024-05-21 13:42:44'),\n",
    "(298, 31, 2, 326.45, 40.95, 'Concluída', '2024-05-20 06:16:51'),\n",
    "(299, 32, 3, 99.31, 5.54, 'Cancelada', '2024-05-14 11:02:36'),\n",
    "(300, 50, 1, 345.67, 7.55, 'Concluída', '2024-05-23 03:10:04');\n"
   ]
  },
  {
   "cell_type": "code",
   "execution_count": 0,
   "metadata": {
    "application/vnd.databricks.v1+cell": {
     "cellMetadata": {
      "byteLimit": 2048000,
      "implicitDf": true,
      "rowLimit": 10000
     },
     "inputWidgets": {},
     "nuid": "601ca89e-dc7a-4237-9319-a1262c5c097b",
     "showTitle": false,
     "tableResultSettingsMap": {},
     "title": ""
    }
   },
   "outputs": [
    {
     "output_type": "display_data",
     "data": {
      "text/html": [
       "<style scoped>\n",
       "  .table-result-container {\n",
       "    max-height: 300px;\n",
       "    overflow: auto;\n",
       "  }\n",
       "  table, th, td {\n",
       "    border: 1px solid black;\n",
       "    border-collapse: collapse;\n",
       "  }\n",
       "  th, td {\n",
       "    padding: 5px;\n",
       "  }\n",
       "  th {\n",
       "    text-align: left;\n",
       "  }\n",
       "</style><div class='table-result-container'><table class='table-result'><thead style='background-color: white'><tr></tr></thead><tbody></tbody></table></div>"
      ]
     },
     "metadata": {
      "application/vnd.databricks.v1+output": {
       "addedWidgets": {},
       "aggData": [],
       "aggError": "",
       "aggOverflow": false,
       "aggSchema": [],
       "aggSeriesLimitReached": false,
       "aggType": "",
       "arguments": {},
       "columnCustomDisplayInfos": {},
       "data": [],
       "datasetInfos": [],
       "dbfsResultPath": null,
       "isJsonSchema": true,
       "metadata": {
        "dataframeName": null
       },
       "overflow": false,
       "plotOptions": {
        "customPlotOptions": {},
        "displayType": "table",
        "pivotAggregation": null,
        "pivotColumns": null,
        "xColumns": null,
        "yColumns": null
       },
       "removedWidgets": [],
       "schema": [],
       "type": "table"
      }
     },
     "output_type": "display_data"
    }
   ],
   "source": [
    "%sql\n",
    "\n",
    "--Criando a tabela ditemorder\n",
    "\n",
    "CREATE TABLE IF NOT EXISTS donabaunilha.ditemorder (\n",
    "  id_item INT,\n",
    "  id_produto INT,\n",
    "  id_venda INT,\n",
    "  qtd_item INT,\n",
    "  valor_item DECIMAL(10,2)\n",
    ") USING DELTA \n",
    "LOCATION 'dbfs:/user/hive/warehouse/donabaunilha/ditemorder';\n"
   ]
  },
  {
   "cell_type": "code",
   "execution_count": 0,
   "metadata": {
    "application/vnd.databricks.v1+cell": {
     "cellMetadata": {
      "byteLimit": 2048000,
      "implicitDf": true,
      "rowLimit": 10000
     },
     "inputWidgets": {},
     "nuid": "6a98194b-b8e9-4f1b-b4a4-f3c4c7d8327b",
     "showTitle": false,
     "tableResultSettingsMap": {},
     "title": ""
    }
   },
   "outputs": [
    {
     "output_type": "display_data",
     "data": {
      "text/html": [
       "<style scoped>\n",
       "  .table-result-container {\n",
       "    max-height: 300px;\n",
       "    overflow: auto;\n",
       "  }\n",
       "  table, th, td {\n",
       "    border: 1px solid black;\n",
       "    border-collapse: collapse;\n",
       "  }\n",
       "  th, td {\n",
       "    padding: 5px;\n",
       "  }\n",
       "  th {\n",
       "    text-align: left;\n",
       "  }\n",
       "</style><div class='table-result-container'><table class='table-result'><thead style='background-color: white'><tr><th>num_affected_rows</th><th>num_inserted_rows</th></tr></thead><tbody><tr><td>400</td><td>400</td></tr></tbody></table></div>"
      ]
     },
     "metadata": {
      "application/vnd.databricks.v1+output": {
       "addedWidgets": {},
       "aggData": [],
       "aggError": "",
       "aggOverflow": false,
       "aggSchema": [],
       "aggSeriesLimitReached": false,
       "aggType": "",
       "arguments": {},
       "columnCustomDisplayInfos": {},
       "data": [
        [
         400,
         400
        ]
       ],
       "datasetInfos": [],
       "dbfsResultPath": null,
       "isJsonSchema": true,
       "metadata": {
        "createTempViewForImplicitDf": true,
        "dataframeName": "_sqldf",
        "executionCount": 33
       },
       "overflow": false,
       "plotOptions": {
        "customPlotOptions": {},
        "displayType": "table",
        "pivotAggregation": null,
        "pivotColumns": null,
        "xColumns": null,
        "yColumns": null
       },
       "removedWidgets": [],
       "schema": [
        {
         "metadata": "{}",
         "name": "num_affected_rows",
         "type": "\"long\""
        },
        {
         "metadata": "{}",
         "name": "num_inserted_rows",
         "type": "\"long\""
        }
       ],
       "type": "table"
      }
     },
     "output_type": "display_data"
    }
   ],
   "source": [
    "%sql\n",
    "\n",
    "--Inserindo dados na tabela ditemorder\n",
    "\n",
    "INSERT INTO donabaunilha.ditemorder (id_item, id_produto, id_venda, qtd_item, valor_item) VALUES\n",
    "(1, 42, 82, 5, 369.15),\n",
    "(2, 49, 5, 3, 242.82),\n",
    "(3, 36, 176, 1, 77.76),\n",
    "(4, 31, 75, 2, 169.66),\n",
    "(5, 4, 254, 2, 147.28),\n",
    "(6, 49, 280, 4, 269.0),\n",
    "(7, 50, 202, 3, 159.93),\n",
    "(8, 38, 85, 3, 288.12),\n",
    "(9, 38, 270, 5, 292.45),\n",
    "(10, 44, 208, 3, 320.85),\n",
    "(11, 28, 234, 3, 244.41),\n",
    "(12, 46, 89, 2, 191.4),\n",
    "(13, 46, 159, 2, 77.24),\n",
    "(14, 25, 128, 1, 71.98),\n",
    "(15, 11, 151, 4, 165.84),\n",
    "(16, 23, 139, 2, 39.1),\n",
    "(17, 39, 158, 4, 272.92),\n",
    "(18, 24, 102, 2, 173.04),\n",
    "(19, 38, 281, 2, 130.06),\n",
    "(20, 20, 165, 2, 193.44),\n",
    "(21, 1, 263, 1, 21.8),\n",
    "(22, 31, 189, 5, 476.85),\n",
    "(23, 12, 6, 3, 142.8),\n",
    "(24, 20, 167, 3, 101.85),\n",
    "(25, 45, 35, 1, 32.31),\n",
    "(26, 38, 105, 3, 332.34),\n",
    "(27, 42, 118, 5, 124.05),\n",
    "(28, 18, 167, 5, 315.3),\n",
    "(29, 40, 250, 3, 320.4),\n",
    "(30, 46, 166, 2, 37.62),\n",
    "(31, 8, 85, 3, 209.16),\n",
    "(32, 7, 59, 2, 211.46),\n",
    "(33, 39, 120, 5, 300.45),\n",
    "(34, 45, 293, 4, 97.08),\n",
    "(35, 12, 33, 5, 557.7),\n",
    "(36, 23, 83, 1, 50.38),\n",
    "(37, 31, 297, 1, 100.15),\n",
    "(38, 3, 119, 1, 97.43),\n",
    "(39, 9, 292, 5, 581.55),\n",
    "(40, 1, 65, 4, 360.88),\n",
    "(41, 29, 93, 3, 264.71),\n",
    "(42, 38, 196, 3, 215.91),\n",
    "(43, 31, 159, 1, 92.31),\n",
    "(44, 9, 2, 5, 583.55),\n",
    "(45, 37, 247, 4, 399.76),\n",
    "(46, 40, 103, 1, 105.0),\n",
    "(47, 48, 176, 2, 118.6),\n",
    "(48, 26, 40, 3, 73.41),\n",
    "(49, 9, 233, 4, 299.76),\n",
    "(50, 18, 215, 3, 73.17),\n",
    "(51, 39, 88, 4, 162.32),\n",
    "(52, 20, 284, 5, 443.15),\n",
    "(53, 35, 43, 3, 131.64),\n",
    "(54, 35, 84, 4, 101.32),\n",
    "(55, 35, 3, 2, 90.24),\n",
    "(56, 49, 231, 4, 453.08),\n",
    "(57, 19, 64, 5, 518.65),\n",
    "(58, 1, 233, 1, 53.17),\n",
    "(59, 36, 248, 4, 282.36),\n",
    "(60, 48, 37, 1, 93.06),\n",
    "(61, 12, 285, 1, 97.07),\n",
    "(62, 4, 17, 5, 581.4),\n",
    "(63, 28, 141, 2, 229.16),\n",
    "(64, 32, 270, 2, 107.38),\n",
    "(65, 30, 291, 4, 451.08),\n",
    "(66, 10, 242, 1, 60.64),\n",
    "(67, 7, 55, 1, 74.62),\n",
    "(68, 46, 54, 3, 141.03),\n",
    "(69, 50, 128, 5, 249.65),\n",
    "(70, 18, 244, 5, 147.65),\n",
    "(71, 34, 61, 2, 111.98),\n",
    "(72, 24, 220, 2, 239.82),\n",
    "(73, 19, 292, 4, 378.0),\n",
    "(74, 31, 173, 4, 382.24),\n",
    "(75, 34, 114, 2, 128.4),\n",
    "(76, 21, 233, 2, 216.06),\n",
    "(77, 27, 137, 2, 226.02),\n",
    "(78, 22, 94, 4, 409.4),\n",
    "(79, 46, 164, 5, 492.9),\n",
    "(80, 47, 60, 5, 149.70),\n",
    "(81, 31, 117, 3, 204.71),\n",
    "(82, 30, 264, 3, 136.32),\n",
    "(83, 43, 122, 3, 279.65),\n",
    "(84, 3, 64, 4, 144.16),\n",
    "(85, 50, 160, 5, 412.65),\n",
    "(86, 1, 74, 4, 103.48),\n",
    "(87, 28, 97, 1, 35.76),\n",
    "(88, 33, 155, 3, 345.81),\n",
    "(89, 37, 144, 4, 441.92),\n",
    "(90, 45, 209, 3, 213.71),\n",
    "(91, 9, 294, 5, 508.7),\n",
    "(92, 7, 58, 2, 42.28),\n",
    "(93, 35, 91, 2, 183.92),\n",
    "(94, 34, 250, 5, 176.4),\n",
    "(95, 38, 170, 1, 92.65),\n",
    "(96, 13, 33, 4, 206.76),\n",
    "(97, 48, 174, 1, 19.11),\n",
    "(98, 46, 202, 2, 96.28),\n",
    "(99, 11, 200, 1, 18.64),\n",
    "(100, 26, 209, 4, 274.92),\n",
    "(101, 48, 90, 5, 475.09),\n",
    "(102, 29, 276, 5, 581.45),\n",
    "(103, 8, 22, 5, 216.75),\n",
    "(104, 28, 2, 3, 355.32),\n",
    "(105, 24, 12, 2, 233.34),\n",
    "(106, 43, 200, 4, 473.0),\n",
    "(107, 11, 251, 4, 207.4),\n",
    "(108, 49, 280, 3, 270.99),\n",
    "(109, 39, 224, 5, 297.5),\n",
    "(110, 30, 18, 4, 285.8),\n",
    "(111, 33, 17, 1, 64.41),\n",
    "(112, 25, 73, 5, 489.95),\n",
    "(113, 34, 12, 5, 231.70),\n",
    "(114, 30, 206, 4, 367.68),\n",
    "(115, 7, 241, 1, 76.61),\n",
    "(116, 1, 65, 2, 143.88),\n",
    "(117, 7, 88, 1, 91.99),\n",
    "(118, 41, 192, 4, 421.16),\n",
    "(119, 12, 246, 3, 170.22),\n",
    "(120, 33, 127, 5, 516.05),\n",
    "(121, 26, 112, 4, 240.52),\n",
    "(122, 10, 176, 2, 49.28),\n",
    "(123, 29, 291, 3, 308.46),\n",
    "(124, 6, 24, 1, 50.38),\n",
    "(125, 2, 109, 4, 290.48),\n",
    "(126, 1, 47, 2, 41.94),\n",
    "(127, 18, 296, 5, 120.60),\n",
    "(128, 4, 217, 1, 59.97),\n",
    "(129, 29, 86, 2, 237.16),\n",
    "(130, 46, 154, 3, 100.92),\n",
    "(131, 43, 254, 5, 501.9),\n",
    "(132, 35, 29, 5, 179.1),\n",
    "(133, 6, 67, 2, 113.12),\n",
    "(134, 36, 146, 4, 296.0),\n",
    "(135, 12, 238, 1, 91.16),\n",
    "(136, 28, 121, 5, 521.15),\n",
    "(137, 21, 94, 1, 47.5),\n",
    "(138, 36, 37, 5, 287.35),\n",
    "(139, 26, 92, 2, 198.98),\n",
    "(140, 1, 18, 1, 107.77),\n",
    "(141, 39, 11, 2, 217.44),\n",
    "(142, 22, 82, 1, 15.89),\n",
    "(143, 7, 181, 5, 213.6),\n",
    "(144, 1, 151, 1, 84.17),\n",
    "(145, 34, 111, 1, 22.85),\n",
    "(146, 8, 183, 1, 69.69),\n",
    "(147, 14, 97, 4, 374.24),\n",
    "(148, 45, 29, 2, 101.68),\n",
    "(149, 13, 296, 5, 592.0),\n",
    "(150, 26, 135, 1, 65.99),\n",
    "(151, 13, 104, 2, 50.74),\n",
    "(152, 11, 214, 5, 110.85),\n",
    "(153, 47, 244, 5, 247.75),\n",
    "(154, 9, 37, 1, 101.48),\n",
    "(155, 49, 185, 4, 316.4),\n",
    "(156, 41, 209, 1, 86.31),\n",
    "(157, 44, 54, 3, 138.75),\n",
    "(158, 34, 2, 1, 28.46),\n",
    "(159, 40, 110, 4, 436.04),\n",
    "(160, 6, 127, 5, 331.85),\n",
    "(161, 43, 248, 5, 312.7),\n",
    "(162, 42, 231, 5, 588.2),\n",
    "(163, 35, 216, 5, 520.65),\n",
    "(164, 49, 40, 5, 409.25),\n",
    "(165, 13, 134, 5, 598.3),\n",
    "(166, 11, 66, 3, 298.92),\n",
    "(167, 22, 129, 5, 239.7),\n",
    "(168, 39, 57, 5, 393.1),\n",
    "(169, 42, 289, 2, 101.76),\n",
    "(170, 7, 79, 2, 36.18),\n",
    "(171, 3, 246, 4, 294.64),\n",
    "(172, 5, 180, 2, 233.08),\n",
    "(173, 39, 263, 1, 93.74),\n",
    "(174, 23, 110, 3, 91.86),\n",
    "(175, 44, 59, 1, 51.75),\n",
    "(176, 15, 2, 4, 417.12),\n",
    "(177, 50, 197, 5, 139.75),\n",
    "(178, 48, 119, 1, 15.63),\n",
    "(179, 2, 109, 1, 97.53),\n",
    "(180, 45, 295, 3, 174.87),\n",
    "(181, 29, 116, 3, 174.14),\n",
    "(182, 49, 69, 5, 306.84),\n",
    "(183, 30, 46, 3, 192.36),\n",
    "(184, 9, 169, 1, 109.19),\n",
    "(185, 24, 196, 5, 87.05),\n",
    "(186, 4, 122, 2, 110.32),\n",
    "(187, 8, 95, 1, 37.62),\n",
    "(188, 7, 126, 2, 110.0),\n",
    "(189, 15, 23, 3, 296.31),\n",
    "(190, 27, 117, 3, 271.74),\n",
    "(191, 34, 208, 3, 345.29),\n",
    "(192, 11, 296, 5, 554.75),\n",
    "(193, 41, 220, 5, 559.45),\n",
    "(194, 41, 290, 5, 369.15),\n",
    "(195, 45, 76, 1, 23.54),\n",
    "(196, 43, 145, 1, 71.44),\n",
    "(197, 47, 268, 2, 90.54),\n",
    "(198, 28, 130, 4, 390.36),\n",
    "(199, 43, 13, 2, 129.28),\n",
    "(200, 5, 285, 1, 85.04),\n",
    "(201, 4, 277, 1, 37.12),\n",
    "(202, 2, 254, 1, 106.24),\n",
    "(203, 20, 247, 3, 299.37),\n",
    "(204, 21, 120, 4, 71.2),\n",
    "(205, 16, 112, 3, 332.49),\n",
    "(206, 6, 64, 5, 507.59),\n",
    "(207, 11, 113, 4, 373.08),\n",
    "(208, 8, 103, 5, 543.75),\n",
    "(209, 50, 220, 3, 76.5),\n",
    "(210, 31, 157, 2, 228.72),\n",
    "(211, 13, 272, 3, 110.88),\n",
    "(212, 45, 25, 5, 380.25),\n",
    "(213, 33, 69, 4, 299.44),\n",
    "(214, 15, 295, 2, 120.12),\n",
    "(215, 4, 207, 3, 157.29),\n",
    "(216, 12, 96, 2, 202.48),\n",
    "(217, 26, 263, 3, 303.87),\n",
    "(218, 34, 244, 2, 217.5),\n",
    "(219, 47, 280, 1, 17.11),\n",
    "(220, 49, 165, 3, 349.98),\n",
    "(221, 18, 50, 1, 20.48),\n",
    "(222, 30, 146, 2, 163.68),\n",
    "(223, 23, 92, 1, 50.67),\n",
    "(224, 4, 252, 3, 340.95),\n",
    "(225, 27, 158, 5, 464.95),\n",
    "(226, 37, 52, 1, 35.9),\n",
    "(227, 33, 118, 3, 325.35),\n",
    "(228, 35, 187, 4, 251.52),\n",
    "(229, 13, 5, 3, 72.78),\n",
    "(230, 1, 203, 5, 304.2),\n",
    "(231, 27, 75, 2, 150.8),\n",
    "(232, 16, 293, 5, 175.5),\n",
    "(233, 16, 67, 1, 27.7),\n",
    "(234, 43, 175, 1, 43.65),\n",
    "(235, 24, 165, 5, 177.8),\n",
    "(236, 33, 191, 4, 130.84),\n",
    "(237, 37, 214, 3, 103.71),\n",
    "(238, 46, 176, 3, 316.02),\n",
    "(239, 23, 288, 1, 28.28),\n",
    "(240, 20, 122, 5, 270.5),\n",
    "(241, 46, 257, 3, 95.42),\n",
    "(242, 16, 46, 4, 278.2),\n",
    "(243, 39, 75, 2, 164.58),\n",
    "(244, 24, 124, 3, 217.02),\n",
    "(245, 8, 189, 1, 52.84),\n",
    "(246, 39, 198, 4, 382.6),\n",
    "(247, 31, 24, 4, 448.24),\n",
    "(248, 7, 26, 2, 219.98),\n",
    "(249, 40, 71, 1, 79.24),\n",
    "(250, 40, 53, 5, 587.8),\n",
    "(251, 31, 15, 3, 272.94),\n",
    "(252, 48, 134, 1, 88.4),\n",
    "(253, 32, 184, 2, 153.4),\n",
    "(254, 29, 280, 3, 315.8),\n",
    "(255, 39, 123, 3, 51.81),\n",
    "(256, 38, 273, 4, 331.36),\n",
    "(257, 22, 125, 3, 275.52),\n",
    "(258, 1, 286, 2, 137.22),\n",
    "(259, 36, 136, 4, 87.8),\n",
    "(260, 32, 96, 4, 324.4),\n",
    "(261, 44, 77, 4, 245.96),\n",
    "(262, 41, 8, 5, 374.95),\n",
    "(263, 6, 98, 3, 170.07),\n",
    "(264, 37, 106, 1, 41.04),\n",
    "(265, 4, 212, 5, 484.9),\n",
    "(266, 12, 194, 3, 312.15),\n",
    "(267, 41, 164, 4, 427.16),\n",
    "(268, 20, 215, 3, 48.21),\n",
    "(269, 13, 150, 3, 174.03),\n",
    "(270, 8, 233, 3, 128.85),\n",
    "(271, 47, 156, 5, 352.8),\n",
    "(272, 33, 164, 5, 454.35),\n",
    "(273, 36, 90, 2, 203.74),\n",
    "(274, 27, 38, 3, 166.10),\n",
    "(275, 42, 45, 5, 403.95),\n",
    "(276, 18, 68, 5, 133.25),\n",
    "(277, 38, 89, 2, 41.74),\n",
    "(278, 19, 136, 4, 450.84),\n",
    "(279, 26, 120, 1, 42.27),\n",
    "(280, 8, 113, 2, 53.84),\n",
    "(281, 45, 79, 3, 156.06),\n",
    "(282, 45, 199, 5, 399.90),\n",
    "(283, 27, 14, 1, 50.34),\n",
    "(284, 18, 264, 1, 69.09),\n",
    "(285, 44, 165, 4, 330.08),\n",
    "(286, 47, 211, 1, 111.81),\n",
    "(287, 48, 168, 1, 36.55),\n",
    "(288, 25, 269, 1, 116.24),\n",
    "(289, 41, 290, 1, 69.17),\n",
    "(290, 35, 54, 1, 50.17),\n",
    "(291, 38, 98, 4, 264.56),\n",
    "(292, 23, 80, 1, 61.49),\n",
    "(293, 6, 239, 5, 217.85),\n",
    "(294, 6, 229, 5, 162.3),\n",
    "(295, 3, 24, 2, 79.34),\n",
    "(296, 23, 292, 4, 425.48),\n",
    "(297, 34, 236, 3, 145.92),\n",
    "(298, 37, 150, 3, 305.25),\n",
    "(299, 15, 145, 3, 286.56),\n",
    "(300, 35, 109, 3, 193.77),\n",
    "(301, 2, 199, 1, 71.94),\n",
    "(302, 24, 47, 5, 594.05),\n",
    "(303, 47, 204, 4, 156.64),\n",
    "(304, 29, 271, 5, 83.75),\n",
    "(305, 36, 75, 1, 85.49),\n",
    "(306, 44, 176, 1, 73.48),\n",
    "(307, 5, 33, 4, 194.28),\n",
    "(308, 20, 76, 5, 405.09),\n",
    "(309, 5, 99, 3, 203.49),\n",
    "(310, 23, 107, 4, 134.24),\n",
    "(311, 38, 240, 2, 222.02),\n",
    "(312, 28, 77, 1, 22.11),\n",
    "(313, 6, 129, 4, 309.16),\n",
    "(314, 19, 79, 1, 21.41),\n",
    "(315, 1, 233, 4, 129.04),\n",
    "(316, 38, 113, 3, 95.78),\n",
    "(317, 37, 72, 2, 234.68),\n",
    "(318, 36, 112, 4, 340.16),\n",
    "(319, 35, 46, 2, 143.54),\n",
    "(320, 24, 77, 3, 59.28),\n",
    "(321, 12, 151, 3, 85.17),\n",
    "(322, 39, 94, 2, 159.84),\n",
    "(323, 9, 184, 2, 117.92),\n",
    "(324, 24, 208, 1, 104.21),\n",
    "(325, 18, 263, 3, 150.27),\n",
    "(326, 17, 75, 5, 315.59),\n",
    "(327, 44, 214, 5, 478.84),\n",
    "(328, 20, 105, 3, 207.36),\n",
    "(329, 41, 14, 1, 111.92),\n",
    "(330, 16, 122, 5, 371.4),\n",
    "(331, 36, 197, 5, 387.0),\n",
    "(332, 38, 56, 3, 252.12),\n",
    "(333, 9, 237, 1, 83.05),\n",
    "(334, 21, 281, 3, 267.51),\n",
    "(335, 22, 171, 1, 27.73),\n",
    "(336, 43, 228, 4, 324.16),\n",
    "(337, 37, 188, 4, 180.4),\n",
    "(338, 25, 292, 3, 179.76),\n",
    "(339, 13, 208, 5, 312.6),\n",
    "(340, 44, 98, 1, 55.17),\n",
    "(341, 2, 72, 3, 149.76),\n",
    "(342, 5, 261, 4, 148.88),\n",
    "(343, 32, 295, 3, 176.67),\n",
    "(344, 33, 267, 3, 249.75),\n",
    "(345, 29, 139, 2, 229.04),\n",
    "(346, 26, 176, 2, 134.44),\n",
    "(347, 50, 254, 1, 70.19),\n",
    "(348, 9, 55, 1, 45.45),\n",
    "(349, 47, 210, 2, 32.82),\n",
    "(350, 48, 11, 1, 37.92),\n",
    "(351, 46, 101, 1, 73.29),\n",
    "(352, 4, 260, 1, 104.12),\n",
    "(353, 20, 99, 4, 148.2),\n",
    "(354, 42, 14, 3, 56.13),\n",
    "(355, 25, 246, 3, 304.40),\n",
    "(356, 43, 67, 3, 48.51),\n",
    "(357, 17, 224, 1, 43.1),\n",
    "(358, 17, 274, 3, 92.42),\n",
    "(359, 21, 205, 5, 90.5),\n",
    "(360, 38, 231, 5, 586.75),\n",
    "(361, 31, 36, 3, 230.79),\n",
    "(362, 40, 243, 2, 50.46),\n",
    "(363, 44, 103, 3, 101.60),\n",
    "(364, 21, 83, 1, 47.42),\n",
    "(365, 4, 230, 5, 496.34),\n",
    "(366, 28, 54, 3, 56.070),\n",
    "(367, 49, 105, 2, 111.2),\n",
    "(368, 8, 257, 3, 119.43),\n",
    "(369, 36, 269, 1, 92.95),\n",
    "(370, 28, 54, 3, 99.270),\n",
    "(371, 30, 200, 1, 63.4),\n",
    "(372, 15, 128, 4, 120.08),\n",
    "(373, 41, 173, 2, 198.36),\n",
    "(374, 39, 105, 5, 92.2),\n",
    "(375, 18, 72, 4, 343.48),\n",
    "(376, 21, 111, 4, 441.8),\n",
    "(377, 10, 141, 3, 105.270),\n",
    "(378, 17, 93, 2, 148.68),\n",
    "(379, 27, 215, 5, 299.75),\n",
    "(380, 45, 276, 1, 42.17),\n",
    "(381, 32, 184, 3, 278.85),\n",
    "(382, 14, 116, 1, 102.55),\n",
    "(383, 18, 124, 3, 321.21),\n",
    "(384, 4, 280, 2, 151.44),\n",
    "(385, 16, 124, 5, 498.7),\n",
    "(386, 22, 53, 4, 149.24),\n",
    "(387, 16, 298, 4, 427.28),\n",
    "(388, 20, 214, 5, 201.6),\n",
    "(389, 36, 232, 2, 82.74),\n",
    "(390, 27, 298, 2, 156.04),\n",
    "(391, 4, 169, 2, 151.0),\n",
    "(392, 19, 270, 4, 166.76),\n",
    "(393, 7, 5, 4, 277.64),\n",
    "(394, 28, 280, 4, 113.4),\n",
    "(395, 10, 248, 4, 117.8),\n",
    "(396, 16, 275, 4, 143.56),\n",
    "(397, 34, 8, 1, 117.34),\n",
    "(398, 32, 148, 3, 59.91),\n",
    "(399, 3, 128, 2, 236.98),\n",
    "(400, 28, 261, 5, 590.45);\n",
    "\n"
   ]
  }
 ],
 "metadata": {
  "application/vnd.databricks.v1+notebook": {
   "computePreferences": null,
   "dashboards": [],
   "environmentMetadata": {
    "base_environment": "",
    "environment_version": "1"
   },
   "inputWidgetPreferences": null,
   "language": "python",
   "notebookMetadata": {
    "mostRecentlyExecutedCommandWithImplicitDF": {
     "commandId": 2976241588947625,
     "dataframes": [
      "_sqldf"
     ]
    },
    "pythonIndentUnit": 4
   },
   "notebookName": "00. Criação do Database e Inserção de Dados",
   "widgets": {}
  }
 },
 "nbformat": 4,
 "nbformat_minor": 0
}